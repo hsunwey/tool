{
 "cells": [
  {
   "cell_type": "code",
   "execution_count": 1,
   "metadata": {},
   "outputs": [],
   "source": [
    "from selenium import webdriver\n",
    "from bs4 import BeautifulSoup\n",
    "import time\n",
    "import random"
   ]
  },
  {
   "cell_type": "code",
   "execution_count": 26,
   "metadata": {},
   "outputs": [],
   "source": [
    "SCROLL_PAUSE_TIME = 3\n",
    "\n",
    "url = \"https://www.esjzone.cc/forum/1562435808/7841.html\"\n",
    "next_css = ['id', 'footlink', 3]\n",
    "\n",
    "# title_css = [\"h2\", \"atitle\"]\n",
    "content_css = [\"div\", \"forum-content\"]\n",
    "\n",
    "\n",
    "\n",
    "filename = \"sheng qi 2.txt\"\n",
    "f = open(filename, \"a+\")\n",
    "\n",
    "# https://tieba.baidu.com/f?kw=%E7%8E%8B%E5%A5%B3%E6%AE%BF%E4%B8%8B%E4%BC%BC%E4%B9%8E%E8%A6%81%E7%94%9F%E6%B0%94&ie=utf-8&tab=good\n"
   ]
  },
  {
   "cell_type": "code",
   "execution_count": 29,
   "metadata": {},
   "outputs": [],
   "source": [
    "def scroll_to_bottom():\n",
    "    driver.execute_script(\"window.scrollTo(0, document.body.scrollHeight);\")\n",
    "    return\n",
    "\n",
    "def next_link(soup):\n",
    "    if next_css[0] == \"id\":\n",
    "        url = soup.find(id=next_css[1])\n",
    "    else:\n",
    "        url = soup.find(next_css[0], class_=next_css[1])\n",
    "        \n",
    "    links = [a[\"href\"] for a in url]\n",
    "    print(links)\n",
    "    link = links[next_css[2]]\n",
    "\n",
    "    return link\n",
    "\n",
    "def next_click(txt):\n",
    "    next_link = driver.find_element_by_link_text(txt)\n",
    "    link = next_link.get_attribute('href')\n",
    "    next_link.click()\n",
    "    return link\n",
    "\n",
    "def extract(soup):\n",
    "    book = \"\"\n",
    "    \n",
    "    title = driver.find_element_by_tag_name('h2')\n",
    "    print(title.text)\n",
    "    book = title.text + \"\\n\\n\\n\\n\\n\\n\\n\"\n",
    "        \n",
    "#     if \"title_css\" in globals():\n",
    "#         title  = soup.find(title_css[0], class_=title_css[1])\n",
    "#         book = title.get_text(separator=\"\\n\") + \"\\n\\n\\n\\n\\n\\n\\n\"\n",
    "#         print(title.get_text(separator=\"\\n\"))\n",
    "        \n",
    "    if content_css[0] == \"id\":\n",
    "        content = soup.find(id=content_css[1])\n",
    "    else:\n",
    "        content = soup.find(content_css[0], class_=content_css[1])\n",
    "        \n",
    "    book = book + content.get_text(separator=\"\")\n",
    "    \n",
    "#     book = book.replace(\"UU看書www.uukａnｓhu.ｃｏｍ\", \"\")\n",
    "    \n",
    "    f.write(book)\n",
    "    return"
   ]
  },
  {
   "cell_type": "code",
   "execution_count": 9,
   "metadata": {},
   "outputs": [],
   "source": [
    "driver = webdriver.Chrome()\n",
    "driver.get(url)"
   ]
  },
  {
   "cell_type": "code",
   "execution_count": 31,
   "metadata": {},
   "outputs": [
    {
     "name": "stdout",
     "output_type": "stream",
     "text": [
      "0 <selenium.webdriver.remote.webelement.WebElement (session=\"1ae425550176772ebe7752ba1f8300c0\", element=\"b1ab7329-176c-4420-8646-33ad718e7fad\")>\n",
      "1 <selenium.webdriver.remote.webelement.WebElement (session=\"1ae425550176772ebe7752ba1f8300c0\", element=\"c6ac2607-dd78-4daf-8691-d00f5bab2e09\")>\n",
      "2 <selenium.webdriver.remote.webelement.WebElement (session=\"1ae425550176772ebe7752ba1f8300c0\", element=\"9cf2518f-6246-40f3-a35c-043118d1f4a3\")>\n",
      "3 <selenium.webdriver.remote.webelement.WebElement (session=\"1ae425550176772ebe7752ba1f8300c0\", element=\"26ceb440-834f-4679-8e31-4956b610c450\")>\n",
      "4 <selenium.webdriver.remote.webelement.WebElement (session=\"1ae425550176772ebe7752ba1f8300c0\", element=\"1a7fb785-5a14-44eb-929b-b1d300f77c98\")>\n",
      "5 <selenium.webdriver.remote.webelement.WebElement (session=\"1ae425550176772ebe7752ba1f8300c0\", element=\"d8db6838-30e7-4e03-8eb8-5368db9cc939\")>\n",
      "6 <selenium.webdriver.remote.webelement.WebElement (session=\"1ae425550176772ebe7752ba1f8300c0\", element=\"d80bd1c5-8c17-4b1d-af61-0008159a6416\")>\n",
      "7 <selenium.webdriver.remote.webelement.WebElement (session=\"1ae425550176772ebe7752ba1f8300c0\", element=\"2b1da6cd-71ae-4b21-9635-48149f643841\")>\n",
      "8 <selenium.webdriver.remote.webelement.WebElement (session=\"1ae425550176772ebe7752ba1f8300c0\", element=\"ccadd8f0-2c32-47dc-875b-837c37a554b9\")>\n",
      "9 <selenium.webdriver.remote.webelement.WebElement (session=\"1ae425550176772ebe7752ba1f8300c0\", element=\"4aaaef59-bf51-4efd-b29b-a6860e5feb9f\")>\n",
      "10 <selenium.webdriver.remote.webelement.WebElement (session=\"1ae425550176772ebe7752ba1f8300c0\", element=\"3f6111f1-ca50-40ce-bf85-3e092aad840f\")>\n",
      "11 <selenium.webdriver.remote.webelement.WebElement (session=\"1ae425550176772ebe7752ba1f8300c0\", element=\"2ef0b89f-443f-4836-afe2-cfe078947174\")>\n",
      "12 <selenium.webdriver.remote.webelement.WebElement (session=\"1ae425550176772ebe7752ba1f8300c0\", element=\"9350261f-c5c1-4d92-8248-e239267cad4a\")>\n",
      "13 <selenium.webdriver.remote.webelement.WebElement (session=\"1ae425550176772ebe7752ba1f8300c0\", element=\"f4849e8b-551c-417b-b356-ef4bc292c9e9\")>\n",
      "14 <selenium.webdriver.remote.webelement.WebElement (session=\"1ae425550176772ebe7752ba1f8300c0\", element=\"53c7a939-5c3f-46c8-b582-d9965d4643ef\")>\n",
      "15 <selenium.webdriver.remote.webelement.WebElement (session=\"1ae425550176772ebe7752ba1f8300c0\", element=\"743063d5-a12e-4609-a09e-f9e42e1c58cd\")>\n",
      "16 <selenium.webdriver.remote.webelement.WebElement (session=\"1ae425550176772ebe7752ba1f8300c0\", element=\"769aa5e2-fefc-4932-812b-d1bfd2aa5373\")>\n",
      "17 <selenium.webdriver.remote.webelement.WebElement (session=\"1ae425550176772ebe7752ba1f8300c0\", element=\"79391758-3ec9-4232-b289-8219dea13c33\")>\n",
      "18 <selenium.webdriver.remote.webelement.WebElement (session=\"1ae425550176772ebe7752ba1f8300c0\", element=\"c3c06ef6-82af-4c91-b76d-edc3fff2d5fe\")>\n",
      "19 <selenium.webdriver.remote.webelement.WebElement (session=\"1ae425550176772ebe7752ba1f8300c0\", element=\"56a756bc-5e07-4c00-a910-c569ec7fd498\")>\n",
      "20 <selenium.webdriver.remote.webelement.WebElement (session=\"1ae425550176772ebe7752ba1f8300c0\", element=\"a2799aff-0088-4825-b1e3-7a110bc32aae\")>\n",
      "21 <selenium.webdriver.remote.webelement.WebElement (session=\"1ae425550176772ebe7752ba1f8300c0\", element=\"2394fee5-275a-40c5-a929-7aab478c4b98\")>\n",
      "22 <selenium.webdriver.remote.webelement.WebElement (session=\"1ae425550176772ebe7752ba1f8300c0\", element=\"66347433-0463-4541-9325-a930fa7e53c8\")>\n",
      "23 <selenium.webdriver.remote.webelement.WebElement (session=\"1ae425550176772ebe7752ba1f8300c0\", element=\"b7aa999a-e31c-4e2a-970a-ed932b463cf3\")>\n",
      "24 <selenium.webdriver.remote.webelement.WebElement (session=\"1ae425550176772ebe7752ba1f8300c0\", element=\"bf343ed1-7fbd-482e-ab09-c08f3f621f16\")>\n",
      "25 <selenium.webdriver.remote.webelement.WebElement (session=\"1ae425550176772ebe7752ba1f8300c0\", element=\"8244f11c-2129-4383-be35-89a7bc249966\")>\n",
      "26 <selenium.webdriver.remote.webelement.WebElement (session=\"1ae425550176772ebe7752ba1f8300c0\", element=\"270e33da-3404-404c-9854-a1d80dd6c9f4\")>\n",
      "27 <selenium.webdriver.remote.webelement.WebElement (session=\"1ae425550176772ebe7752ba1f8300c0\", element=\"7299fa73-2e5c-445a-871e-986003ddce9b\")>\n",
      "28 <selenium.webdriver.remote.webelement.WebElement (session=\"1ae425550176772ebe7752ba1f8300c0\", element=\"c5c486c7-8921-4422-9ac4-968ace3c8725\")>\n",
      "29 <selenium.webdriver.remote.webelement.WebElement (session=\"1ae425550176772ebe7752ba1f8300c0\", element=\"56e929e8-41c5-4eb2-a1ac-b69dba95cdcc\")>\n",
      "30 <selenium.webdriver.remote.webelement.WebElement (session=\"1ae425550176772ebe7752ba1f8300c0\", element=\"c4896f66-6b85-469c-9b19-9f1f7367dab9\")>\n",
      "31 <selenium.webdriver.remote.webelement.WebElement (session=\"1ae425550176772ebe7752ba1f8300c0\", element=\"0f2676ea-02c2-478a-b7b5-3d2b689efb02\")>\n",
      "32 <selenium.webdriver.remote.webelement.WebElement (session=\"1ae425550176772ebe7752ba1f8300c0\", element=\"3926c1f0-ed15-4c56-b8e5-5d526d65d4fb\")>\n",
      "33 <selenium.webdriver.remote.webelement.WebElement (session=\"1ae425550176772ebe7752ba1f8300c0\", element=\"6188829f-8b84-4371-bae0-cb04d3aecc02\")>\n",
      "34 <selenium.webdriver.remote.webelement.WebElement (session=\"1ae425550176772ebe7752ba1f8300c0\", element=\"6121db5c-c6bb-4583-a9d9-ef1678b694e3\")>\n",
      "35 <selenium.webdriver.remote.webelement.WebElement (session=\"1ae425550176772ebe7752ba1f8300c0\", element=\"d8de0abd-b844-4857-a8e2-9df035ad0ab0\")>\n",
      "36 <selenium.webdriver.remote.webelement.WebElement (session=\"1ae425550176772ebe7752ba1f8300c0\", element=\"1158b167-0237-4a01-8acf-8a6167c5210f\")>\n",
      "37 <selenium.webdriver.remote.webelement.WebElement (session=\"1ae425550176772ebe7752ba1f8300c0\", element=\"8a40b9c3-24b9-4d36-89e8-f981cbfaef3b\")>\n",
      "38 <selenium.webdriver.remote.webelement.WebElement (session=\"1ae425550176772ebe7752ba1f8300c0\", element=\"718debdb-12c8-4648-adf5-8d4a29213624\")>\n",
      "39 <selenium.webdriver.remote.webelement.WebElement (session=\"1ae425550176772ebe7752ba1f8300c0\", element=\"13c1b121-a89a-4741-aea9-7e791f31e386\")>\n",
      "40 <selenium.webdriver.remote.webelement.WebElement (session=\"1ae425550176772ebe7752ba1f8300c0\", element=\"09aba20c-3c0b-41f9-99ba-7f93be220c2a\")>\n",
      "41 <selenium.webdriver.remote.webelement.WebElement (session=\"1ae425550176772ebe7752ba1f8300c0\", element=\"88b9ee62-5790-48ec-baaf-f4f65b34251f\")>\n",
      "42 <selenium.webdriver.remote.webelement.WebElement (session=\"1ae425550176772ebe7752ba1f8300c0\", element=\"bb7ee645-a824-4f2b-8ca7-3cb882f6846d\")>\n",
      "43 <selenium.webdriver.remote.webelement.WebElement (session=\"1ae425550176772ebe7752ba1f8300c0\", element=\"cf7a5b75-3228-4910-8660-3d140a63969a\")>\n",
      "44 <selenium.webdriver.remote.webelement.WebElement (session=\"1ae425550176772ebe7752ba1f8300c0\", element=\"b1d77f11-78f5-4ece-a4fe-cdb0a29bf32e\")>\n",
      "45 <selenium.webdriver.remote.webelement.WebElement (session=\"1ae425550176772ebe7752ba1f8300c0\", element=\"ac6c89bb-42b6-496c-9e15-e602594be44c\")>\n",
      "46 <selenium.webdriver.remote.webelement.WebElement (session=\"1ae425550176772ebe7752ba1f8300c0\", element=\"00fd9184-35c0-434f-9e39-7b058e690f09\")>\n",
      "47 <selenium.webdriver.remote.webelement.WebElement (session=\"1ae425550176772ebe7752ba1f8300c0\", element=\"d2963213-10e0-4780-83e1-791b2d0d6977\")>\n",
      "48 <selenium.webdriver.remote.webelement.WebElement (session=\"1ae425550176772ebe7752ba1f8300c0\", element=\"8afc1975-dc6d-4c29-98e5-bef81aea897c\")>\n",
      "49 <selenium.webdriver.remote.webelement.WebElement (session=\"1ae425550176772ebe7752ba1f8300c0\", element=\"013fa9ed-3850-4fab-9b40-895b0e750b42\")>\n",
      "50 <selenium.webdriver.remote.webelement.WebElement (session=\"1ae425550176772ebe7752ba1f8300c0\", element=\"09ad70ef-87f7-4092-9b6b-5760900c2c69\")>\n",
      "51 <selenium.webdriver.remote.webelement.WebElement (session=\"1ae425550176772ebe7752ba1f8300c0\", element=\"44317467-5b54-403d-a099-70485bd6ab48\")>\n",
      "52 <selenium.webdriver.remote.webelement.WebElement (session=\"1ae425550176772ebe7752ba1f8300c0\", element=\"d6626575-9e6e-4a05-a9dd-0d706da8455d\")>\n",
      "53 <selenium.webdriver.remote.webelement.WebElement (session=\"1ae425550176772ebe7752ba1f8300c0\", element=\"12956f40-e645-4dee-a14e-b7861e0623e6\")>\n",
      "54 <selenium.webdriver.remote.webelement.WebElement (session=\"1ae425550176772ebe7752ba1f8300c0\", element=\"d1d7f535-1bf2-43af-b26b-181e51328ad1\")>\n",
      "55 <selenium.webdriver.remote.webelement.WebElement (session=\"1ae425550176772ebe7752ba1f8300c0\", element=\"3c612b51-a042-49d7-b363-3f32c594b7b5\")>\n"
     ]
    },
    {
     "ename": "NoSuchElementException",
     "evalue": "Message: no such element: Unable to locate element: {\"method\":\"link text\",\"selector\":\"下一篇\"}\n  (Session info: chrome=83.0.4103.61)\n",
     "output_type": "error",
     "traceback": [
      "\u001b[0;31m---------------------------------------------------------------------------\u001b[0m",
      "\u001b[0;31mNoSuchElementException\u001b[0m                    Traceback (most recent call last)",
      "\u001b[0;32m<ipython-input-31-c2bc3f6eade4>\u001b[0m in \u001b[0;36m<module>\u001b[0;34m\u001b[0m\n\u001b[1;32m      8\u001b[0m     \u001b[0mextract\u001b[0m\u001b[0;34m(\u001b[0m\u001b[0msoup\u001b[0m\u001b[0;34m)\u001b[0m\u001b[0;34m\u001b[0m\u001b[0;34m\u001b[0m\u001b[0m\n\u001b[1;32m      9\u001b[0m \u001b[0;34m\u001b[0m\u001b[0m\n\u001b[0;32m---> 10\u001b[0;31m     \u001b[0mnext_click\u001b[0m\u001b[0;34m(\u001b[0m\u001b[0;34m\"下一篇\"\u001b[0m\u001b[0;34m)\u001b[0m\u001b[0;34m\u001b[0m\u001b[0;34m\u001b[0m\u001b[0m\n\u001b[0m\u001b[1;32m     11\u001b[0m \u001b[0;34m\u001b[0m\u001b[0m\n\u001b[1;32m     12\u001b[0m \u001b[0mf\u001b[0m\u001b[0;34m.\u001b[0m\u001b[0mclose\u001b[0m\u001b[0;34m(\u001b[0m\u001b[0;34m)\u001b[0m\u001b[0;34m\u001b[0m\u001b[0;34m\u001b[0m\u001b[0m\n",
      "\u001b[0;32m<ipython-input-29-1f7dac6d438b>\u001b[0m in \u001b[0;36mnext_click\u001b[0;34m(txt)\u001b[0m\n\u001b[1;32m     16\u001b[0m \u001b[0;34m\u001b[0m\u001b[0m\n\u001b[1;32m     17\u001b[0m \u001b[0;32mdef\u001b[0m \u001b[0mnext_click\u001b[0m\u001b[0;34m(\u001b[0m\u001b[0mtxt\u001b[0m\u001b[0;34m)\u001b[0m\u001b[0;34m:\u001b[0m\u001b[0;34m\u001b[0m\u001b[0;34m\u001b[0m\u001b[0m\n\u001b[0;32m---> 18\u001b[0;31m     \u001b[0mnext_link\u001b[0m \u001b[0;34m=\u001b[0m \u001b[0mdriver\u001b[0m\u001b[0;34m.\u001b[0m\u001b[0mfind_element_by_link_text\u001b[0m\u001b[0;34m(\u001b[0m\u001b[0mtxt\u001b[0m\u001b[0;34m)\u001b[0m\u001b[0;34m\u001b[0m\u001b[0;34m\u001b[0m\u001b[0m\n\u001b[0m\u001b[1;32m     19\u001b[0m     \u001b[0mlink\u001b[0m \u001b[0;34m=\u001b[0m \u001b[0mnext_link\u001b[0m\u001b[0;34m.\u001b[0m\u001b[0mget_attribute\u001b[0m\u001b[0;34m(\u001b[0m\u001b[0;34m'href'\u001b[0m\u001b[0;34m)\u001b[0m\u001b[0;34m\u001b[0m\u001b[0;34m\u001b[0m\u001b[0m\n\u001b[1;32m     20\u001b[0m     \u001b[0mnext_link\u001b[0m\u001b[0;34m.\u001b[0m\u001b[0mclick\u001b[0m\u001b[0;34m(\u001b[0m\u001b[0;34m)\u001b[0m\u001b[0;34m\u001b[0m\u001b[0;34m\u001b[0m\u001b[0m\n",
      "\u001b[0;32m~/anaconda3/envs/tools/lib/python3.8/site-packages/selenium/webdriver/remote/webdriver.py\u001b[0m in \u001b[0;36mfind_element_by_link_text\u001b[0;34m(self, link_text)\u001b[0m\n\u001b[1;32m    426\u001b[0m             \u001b[0melement\u001b[0m \u001b[0;34m=\u001b[0m \u001b[0mdriver\u001b[0m\u001b[0;34m.\u001b[0m\u001b[0mfind_element_by_link_text\u001b[0m\u001b[0;34m(\u001b[0m\u001b[0;34m'Sign In'\u001b[0m\u001b[0;34m)\u001b[0m\u001b[0;34m\u001b[0m\u001b[0;34m\u001b[0m\u001b[0m\n\u001b[1;32m    427\u001b[0m         \"\"\"\n\u001b[0;32m--> 428\u001b[0;31m         \u001b[0;32mreturn\u001b[0m \u001b[0mself\u001b[0m\u001b[0;34m.\u001b[0m\u001b[0mfind_element\u001b[0m\u001b[0;34m(\u001b[0m\u001b[0mby\u001b[0m\u001b[0;34m=\u001b[0m\u001b[0mBy\u001b[0m\u001b[0;34m.\u001b[0m\u001b[0mLINK_TEXT\u001b[0m\u001b[0;34m,\u001b[0m \u001b[0mvalue\u001b[0m\u001b[0;34m=\u001b[0m\u001b[0mlink_text\u001b[0m\u001b[0;34m)\u001b[0m\u001b[0;34m\u001b[0m\u001b[0;34m\u001b[0m\u001b[0m\n\u001b[0m\u001b[1;32m    429\u001b[0m \u001b[0;34m\u001b[0m\u001b[0m\n\u001b[1;32m    430\u001b[0m     \u001b[0;32mdef\u001b[0m \u001b[0mfind_elements_by_link_text\u001b[0m\u001b[0;34m(\u001b[0m\u001b[0mself\u001b[0m\u001b[0;34m,\u001b[0m \u001b[0mtext\u001b[0m\u001b[0;34m)\u001b[0m\u001b[0;34m:\u001b[0m\u001b[0;34m\u001b[0m\u001b[0;34m\u001b[0m\u001b[0m\n",
      "\u001b[0;32m~/anaconda3/envs/tools/lib/python3.8/site-packages/selenium/webdriver/remote/webdriver.py\u001b[0m in \u001b[0;36mfind_element\u001b[0;34m(self, by, value)\u001b[0m\n\u001b[1;32m    974\u001b[0m                 \u001b[0mby\u001b[0m \u001b[0;34m=\u001b[0m \u001b[0mBy\u001b[0m\u001b[0;34m.\u001b[0m\u001b[0mCSS_SELECTOR\u001b[0m\u001b[0;34m\u001b[0m\u001b[0;34m\u001b[0m\u001b[0m\n\u001b[1;32m    975\u001b[0m                 \u001b[0mvalue\u001b[0m \u001b[0;34m=\u001b[0m \u001b[0;34m'[name=\"%s\"]'\u001b[0m \u001b[0;34m%\u001b[0m \u001b[0mvalue\u001b[0m\u001b[0;34m\u001b[0m\u001b[0;34m\u001b[0m\u001b[0m\n\u001b[0;32m--> 976\u001b[0;31m         return self.execute(Command.FIND_ELEMENT, {\n\u001b[0m\u001b[1;32m    977\u001b[0m             \u001b[0;34m'using'\u001b[0m\u001b[0;34m:\u001b[0m \u001b[0mby\u001b[0m\u001b[0;34m,\u001b[0m\u001b[0;34m\u001b[0m\u001b[0;34m\u001b[0m\u001b[0m\n\u001b[1;32m    978\u001b[0m             'value': value})['value']\n",
      "\u001b[0;32m~/anaconda3/envs/tools/lib/python3.8/site-packages/selenium/webdriver/remote/webdriver.py\u001b[0m in \u001b[0;36mexecute\u001b[0;34m(self, driver_command, params)\u001b[0m\n\u001b[1;32m    319\u001b[0m         \u001b[0mresponse\u001b[0m \u001b[0;34m=\u001b[0m \u001b[0mself\u001b[0m\u001b[0;34m.\u001b[0m\u001b[0mcommand_executor\u001b[0m\u001b[0;34m.\u001b[0m\u001b[0mexecute\u001b[0m\u001b[0;34m(\u001b[0m\u001b[0mdriver_command\u001b[0m\u001b[0;34m,\u001b[0m \u001b[0mparams\u001b[0m\u001b[0;34m)\u001b[0m\u001b[0;34m\u001b[0m\u001b[0;34m\u001b[0m\u001b[0m\n\u001b[1;32m    320\u001b[0m         \u001b[0;32mif\u001b[0m \u001b[0mresponse\u001b[0m\u001b[0;34m:\u001b[0m\u001b[0;34m\u001b[0m\u001b[0;34m\u001b[0m\u001b[0m\n\u001b[0;32m--> 321\u001b[0;31m             \u001b[0mself\u001b[0m\u001b[0;34m.\u001b[0m\u001b[0merror_handler\u001b[0m\u001b[0;34m.\u001b[0m\u001b[0mcheck_response\u001b[0m\u001b[0;34m(\u001b[0m\u001b[0mresponse\u001b[0m\u001b[0;34m)\u001b[0m\u001b[0;34m\u001b[0m\u001b[0;34m\u001b[0m\u001b[0m\n\u001b[0m\u001b[1;32m    322\u001b[0m             response['value'] = self._unwrap_value(\n\u001b[1;32m    323\u001b[0m                 response.get('value', None))\n",
      "\u001b[0;32m~/anaconda3/envs/tools/lib/python3.8/site-packages/selenium/webdriver/remote/errorhandler.py\u001b[0m in \u001b[0;36mcheck_response\u001b[0;34m(self, response)\u001b[0m\n\u001b[1;32m    240\u001b[0m                 \u001b[0malert_text\u001b[0m \u001b[0;34m=\u001b[0m \u001b[0mvalue\u001b[0m\u001b[0;34m[\u001b[0m\u001b[0;34m'alert'\u001b[0m\u001b[0;34m]\u001b[0m\u001b[0;34m.\u001b[0m\u001b[0mget\u001b[0m\u001b[0;34m(\u001b[0m\u001b[0;34m'text'\u001b[0m\u001b[0;34m)\u001b[0m\u001b[0;34m\u001b[0m\u001b[0;34m\u001b[0m\u001b[0m\n\u001b[1;32m    241\u001b[0m             \u001b[0;32mraise\u001b[0m \u001b[0mexception_class\u001b[0m\u001b[0;34m(\u001b[0m\u001b[0mmessage\u001b[0m\u001b[0;34m,\u001b[0m \u001b[0mscreen\u001b[0m\u001b[0;34m,\u001b[0m \u001b[0mstacktrace\u001b[0m\u001b[0;34m,\u001b[0m \u001b[0malert_text\u001b[0m\u001b[0;34m)\u001b[0m\u001b[0;34m\u001b[0m\u001b[0;34m\u001b[0m\u001b[0m\n\u001b[0;32m--> 242\u001b[0;31m         \u001b[0;32mraise\u001b[0m \u001b[0mexception_class\u001b[0m\u001b[0;34m(\u001b[0m\u001b[0mmessage\u001b[0m\u001b[0;34m,\u001b[0m \u001b[0mscreen\u001b[0m\u001b[0;34m,\u001b[0m \u001b[0mstacktrace\u001b[0m\u001b[0;34m)\u001b[0m\u001b[0;34m\u001b[0m\u001b[0;34m\u001b[0m\u001b[0m\n\u001b[0m\u001b[1;32m    243\u001b[0m \u001b[0;34m\u001b[0m\u001b[0m\n\u001b[1;32m    244\u001b[0m     \u001b[0;32mdef\u001b[0m \u001b[0m_value_or_default\u001b[0m\u001b[0;34m(\u001b[0m\u001b[0mself\u001b[0m\u001b[0;34m,\u001b[0m \u001b[0mobj\u001b[0m\u001b[0;34m,\u001b[0m \u001b[0mkey\u001b[0m\u001b[0;34m,\u001b[0m \u001b[0mdefault\u001b[0m\u001b[0;34m)\u001b[0m\u001b[0;34m:\u001b[0m\u001b[0;34m\u001b[0m\u001b[0;34m\u001b[0m\u001b[0m\n",
      "\u001b[0;31mNoSuchElementException\u001b[0m: Message: no such element: Unable to locate element: {\"method\":\"link text\",\"selector\":\"下一篇\"}\n  (Session info: chrome=83.0.4103.61)\n"
     ]
    }
   ],
   "source": [
    "f = open(filename, \"a+\")\n",
    "\n",
    "for i in range(100):\n",
    "    print(i, end=\" \")\n",
    "    time.sleep(random.randint(3, 6))\n",
    "    soup = BeautifulSoup(driver.page_source, 'html.parser')\n",
    "\n",
    "    extract(soup)\n",
    "    \n",
    "    next_click(\"下一篇\")\n",
    "    \n",
    "f.close()\n",
    "\n",
    "url = driver.current_url\n",
    "print(\"Last url: \" + url)\n",
    "f.close()"
   ]
  },
  {
   "cell_type": "code",
   "execution_count": null,
   "metadata": {},
   "outputs": [],
   "source": []
  },
  {
   "cell_type": "code",
   "execution_count": null,
   "metadata": {},
   "outputs": [],
   "source": []
  },
  {
   "cell_type": "code",
   "execution_count": null,
   "metadata": {},
   "outputs": [],
   "source": []
  },
  {
   "cell_type": "code",
   "execution_count": null,
   "metadata": {},
   "outputs": [],
   "source": []
  },
  {
   "cell_type": "code",
   "execution_count": 7,
   "metadata": {},
   "outputs": [
    {
     "data": {
      "text/plain": [
       "'https://m.linovelib.com/novel/2663/120619.html'"
      ]
     },
     "execution_count": 7,
     "metadata": {},
     "output_type": "execute_result"
    }
   ],
   "source": [
    "base_url = \"https://m.linovelib.com/novel/2663/.html\"\n",
    "\n",
    "num = 120619\n",
    "\n",
    "new_url = base_url[:-5] + str(num) + base_url[-5:]\n",
    "new_url"
   ]
  }
 ],
 "metadata": {
  "kernelspec": {
   "display_name": "Python 3",
   "language": "python",
   "name": "python3"
  },
  "language_info": {
   "codemirror_mode": {
    "name": "ipython",
    "version": 3
   },
   "file_extension": ".py",
   "mimetype": "text/x-python",
   "name": "python",
   "nbconvert_exporter": "python",
   "pygments_lexer": "ipython3",
   "version": "3.8.1"
  }
 },
 "nbformat": 4,
 "nbformat_minor": 4
}
