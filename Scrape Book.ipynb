{
 "cells": [
  {
   "cell_type": "code",
   "execution_count": 15,
   "metadata": {},
   "outputs": [],
   "source": [
    "from selenium import webdriver\n",
    "from bs4 import BeautifulSoup\n",
    "import time\n",
    "import random"
   ]
  },
  {
   "cell_type": "code",
   "execution_count": 16,
   "metadata": {},
   "outputs": [],
   "source": [
    "SCROLL_PAUSE_TIME = 3\n",
    "\n",
    "base_url = \"https://m.mingrenteahouse.com/shu/43456/7529507.html\"\n",
    "next_css = \"url_next\"\n",
    "title_css = \"chaptername\"\n",
    "content_css = \"txt\"\n",
    "\n",
    "# base_url = 'https://www.twfanti.com/ShaoNianLuMingQuanWenMianFeiYueDu/read_1.html'\n",
    "# https://www.twfanti.com/ShaoNianLuMingQuanWenMianFeiYueDu/read_470_p2.html\n",
    "# next_css = \"pt-nextchapter\"\n",
    "# content_css = \"pt-read-cont\"\n",
    "#\n",
    "# https://www.qinxiaoshuo.com/tag/%E6%97%A5%E8%BD%BB/1.html"
   ]
  },
  {
   "cell_type": "code",
   "execution_count": 30,
   "metadata": {},
   "outputs": [],
   "source": [
    "def scroll_to_bottom():\n",
    "    driver.execute_script(\"window.scrollTo(0, document.body.scrollHeight);\")\n",
    "    return\n",
    "\n",
    "def next_page():\n",
    "#     <a class=\"pt-nextchapter\" \n",
    "    bottom = driver.find_element_by_class_name(next_css)\n",
    "    bottom.click()\n",
    "    scroll_to_bottom()\n",
    "    return\n",
    "\n",
    "def extract():\n",
    "    soup = BeautifulSoup(driver.page_source, 'html.parser')\n",
    "    \n",
    "    book = \"\"\n",
    "    \n",
    "    if title_css:\n",
    "        title  = soup.find(\"h1\", class_=title_css)\n",
    "        book = title.get_text(separator=\"\\n\") + \"\\n\\n\\n\"\n",
    "        \n",
    "#     content = soup.find(id=\"BookText\")\n",
    "    content = soup.find(\"div\", class_=content_css)\n",
    "    book = book + content.get_text(separator=\"\\n\\n\")\n",
    "    \n",
    "    f.write(book)\n",
    "    return"
   ]
  },
  {
   "cell_type": "code",
   "execution_count": 18,
   "metadata": {},
   "outputs": [],
   "source": [
    "driver = webdriver.Chrome()\n",
    "driver.get(base_url)"
   ]
  },
  {
   "cell_type": "code",
   "execution_count": null,
   "metadata": {},
   "outputs": [],
   "source": [
    "f = open(\"lu ming 3.txt\", \"a+\")\n",
    "\n",
    "for i in range(500):\n",
    "    print(i)\n",
    "    time.sleep(random.randint(4, 7))\n",
    "    \n",
    "    extract()\n",
    "    next_page()\n",
    "    \n",
    "f.close()"
   ]
  },
  {
   "cell_type": "code",
   "execution_count": 32,
   "metadata": {},
   "outputs": [],
   "source": [
    "f.close()"
   ]
  }
 ],
 "metadata": {
  "kernelspec": {
   "display_name": "Python 3",
   "language": "python",
   "name": "python3"
  },
  "language_info": {
   "codemirror_mode": {
    "name": "ipython",
    "version": 3
   },
   "file_extension": ".py",
   "mimetype": "text/x-python",
   "name": "python",
   "nbconvert_exporter": "python",
   "pygments_lexer": "ipython3",
   "version": "3.8.1"
  }
 },
 "nbformat": 4,
 "nbformat_minor": 4
}
