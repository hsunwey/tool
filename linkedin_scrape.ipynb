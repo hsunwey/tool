{
 "cells": [
  {
   "cell_type": "code",
   "execution_count": 1,
   "metadata": {
    "scrolled": true
   },
   "outputs": [],
   "source": [
    "from selenium import webdriver\n",
    "from selenium.webdriver.common.keys import Keys\n",
    "# from selenium.webdriver.common.touch_actions import TouchActions\n",
    "# from selenium.common.exceptions import NoSuchElementException\n",
    "\n",
    "from random import randint\n",
    "from bs4 import BeautifulSoup\n",
    "import pandas as pd\n",
    "import time\n",
    "from openpyxl import load_workbook"
   ]
  },
  {
   "cell_type": "code",
   "execution_count": 21,
   "metadata": {},
   "outputs": [],
   "source": [
    "driver = webdriver.Chrome()\n",
    "driver.get('http://linkedin.com')\n",
    "\n",
    "## Logging in to LinkedIn\n",
    "emailElem = driver.find_element_by_id('login-email')\n",
    "emailElem.send_keys('@protonmail.com')\n",
    "# emailElem.send_keys('@protonmail.com')\n",
    "\n",
    "passwordElem = driver.find_element_by_id('login-password')\n",
    "passwordElem.send_keys('pw')\n",
    "passwordElem.submit()"
   ]
  },
  {
   "cell_type": "markdown",
   "metadata": {},
   "source": [
    "### Profiles to scrape"
   ]
  },
  {
   "cell_type": "code",
   "execution_count": 3,
   "metadata": {
    "scrolled": true
   },
   "outputs": [
    {
     "data": {
      "text/html": [
       "<div>\n",
       "<style scoped>\n",
       "    .dataframe tbody tr th:only-of-type {\n",
       "        vertical-align: middle;\n",
       "    }\n",
       "\n",
       "    .dataframe tbody tr th {\n",
       "        vertical-align: top;\n",
       "    }\n",
       "\n",
       "    .dataframe thead th {\n",
       "        text-align: right;\n",
       "    }\n",
       "</style>\n",
       "<table border=\"1\" class=\"dataframe\">\n",
       "  <thead>\n",
       "    <tr style=\"text-align: right;\">\n",
       "      <th></th>\n",
       "      <th>index</th>\n",
       "      <th>Name</th>\n",
       "      <th>First Name</th>\n",
       "      <th>Last Name</th>\n",
       "      <th>Full Name</th>\n",
       "    </tr>\n",
       "  </thead>\n",
       "  <tbody>\n",
       "    <tr>\n",
       "      <th>0</th>\n",
       "      <td>0</td>\n",
       "      <td>karl ng</td>\n",
       "      <td>karl ng</td>\n",
       "      <td>None</td>\n",
       "      <td>karl ng</td>\n",
       "    </tr>\n",
       "    <tr>\n",
       "      <th>1</th>\n",
       "      <td>1</td>\n",
       "      <td>siva ramanathan</td>\n",
       "      <td>siva ramanathan</td>\n",
       "      <td>None</td>\n",
       "      <td>siva ramanathan</td>\n",
       "    </tr>\n",
       "    <tr>\n",
       "      <th>2</th>\n",
       "      <td>2</td>\n",
       "      <td>seah chee ming</td>\n",
       "      <td>seah chee ming</td>\n",
       "      <td>None</td>\n",
       "      <td>seah chee ming</td>\n",
       "    </tr>\n",
       "    <tr>\n",
       "      <th>3</th>\n",
       "      <td>3</td>\n",
       "      <td>wong mei khuen</td>\n",
       "      <td>wong mei khuen</td>\n",
       "      <td>None</td>\n",
       "      <td>wong mei khuen</td>\n",
       "    </tr>\n",
       "    <tr>\n",
       "      <th>4</th>\n",
       "      <td>4</td>\n",
       "      <td>muhammad ghazali abdul aziz</td>\n",
       "      <td>muhammad ghazali abdul aziz</td>\n",
       "      <td>None</td>\n",
       "      <td>muhammad ghazali abdul aziz</td>\n",
       "    </tr>\n",
       "  </tbody>\n",
       "</table>\n",
       "</div>"
      ],
      "text/plain": [
       "   index                         Name                   First Name Last Name  \\\n",
       "0      0                      karl ng                      karl ng      None   \n",
       "1      1              siva ramanathan              siva ramanathan      None   \n",
       "2      2              seah chee ming               seah chee ming       None   \n",
       "3      3               wong mei khuen               wong mei khuen      None   \n",
       "4      4  muhammad ghazali abdul aziz  muhammad ghazali abdul aziz      None   \n",
       "\n",
       "                     Full Name  \n",
       "0                      karl ng  \n",
       "1              siva ramanathan  \n",
       "2              seah chee ming   \n",
       "3               wong mei khuen  \n",
       "4  muhammad ghazali abdul aziz  "
      ]
     },
     "execution_count": 3,
     "metadata": {},
     "output_type": "execute_result"
    }
   ],
   "source": [
    "# load data\n",
    "profiles = pd.read_excel('name.xlsx', sheet_name='Managers', usecols=[2])\n",
    "profiles['Name'] = profiles['Name'].dropna().apply(lambda x: x.lower().replace('/','').replace(\n",
    "    ' binti ',' bin ').replace(' ap ',' bin ').replace(' al ',' bin ').replace(' bt ',' bin '))\n",
    "\n",
    "# separate names\n",
    "new = profiles['Name'].str.split(' bin ', n = 1, expand = True)\n",
    "profiles['First Name']= new[0]\n",
    "profiles['Last Name']= new[1]\n",
    "profiles['Full Name'] = profiles['First Name'] + \" \" + profiles['Last Name']\n",
    "profiles['Full Name'].fillna(value=profiles['Name'], inplace=True)\n",
    "\n",
    "profiles.reset_index(inplace=True)\n",
    "profiles.head()"
   ]
  },
  {
   "cell_type": "markdown",
   "metadata": {},
   "source": [
    "### Methods"
   ]
  },
  {
   "cell_type": "code",
   "execution_count": 4,
   "metadata": {},
   "outputs": [],
   "source": [
    "# fetch page HTML source\n",
    "def fetch_html(driver):\n",
    "    return driver.page_source\n",
    "\n",
    "def parse_html(driver, html):\n",
    "    return BeautifulSoup(html,'lxml')\n",
    "\n",
    "\n",
    "# extract info from HTML\n",
    "def extract_basic_info(soup, url):\n",
    "    \n",
    "    if soup.find('h1', {'class':'pv-top-card-section__name inline t-24 t-black t-normal'}):\n",
    "        name = soup.find('h1', {'class':'pv-top-card-section__name inline t-24 t-black t-normal'}).getText().strip()\n",
    "    else:\n",
    "        name = None\n",
    "        url = None\n",
    "        \n",
    "    if soup.find('h2',{'class':'pv-top-card-section__headline mt1 t-18 t-black t-normal'}):\n",
    "        self_intro1 = soup.find('h2',{'class':'pv-top-card-section__headline mt1 t-18 t-black t-normal'}).getText().strip()\n",
    "    else: self_intro1 = None\n",
    "    \n",
    "    if soup.find('h3', {'class':'pv-entity__school-name t-16 t-black t-bold'}):\n",
    "        school = soup.find('h3', {'class':'pv-entity__school-name t-16 t-black t-bold'}).getText()\n",
    "    else: school = None\n",
    "        \n",
    "    if soup.find('span', {'class':'pv-entity__comma-item'}):\n",
    "        degree = soup.find('span', {'class':'pv-entity__comma-item'}).getText()\n",
    "    else: degree = None\n",
    "\n",
    "    if soup.find('span',{'class':'pv-entity__secondary-title'}):\n",
    "        current_company = soup.find('span',{'class':'pv-entity__secondary-title'}).getText()\n",
    "    else: current_company = None\n",
    "        \n",
    "    if soup.find('h3',{'class':'t-16 t-black t-bold'}):\n",
    "        current_title = soup.find('h3',{'class':'t-16 t-black t-bold'}).getText()\n",
    "    else: current_title = None\n",
    "    \n",
    "    if soup.find('p',{'class':'pv-entity__description t-14 t-black t-normal ember-view'}):\n",
    "        desc = soup.find('p',{'class':'pv-entity__description t-14 t-black t-normal ember-view'}).getText()\n",
    "    else: desc = None\n",
    "        \n",
    "    return {\"url\": [url],\n",
    "            \"name\": [name],\n",
    "            \"school\": [school],\n",
    "            \"degree\": [degree],\n",
    "            \"company\": [current_company],\n",
    "            \"title\": [current_title],\n",
    "            \"desc\": [desc]}\n",
    "\n",
    "# search\n",
    "def search_num(driver):\n",
    "    lst_Count= driver.find_elements_by_xpath(\"//div[@class='search-result__wrapper']\")\n",
    "    return len(lst_Count)\n",
    "\n",
    "def search(name, driver):\n",
    "    searchElem = driver.find_element_by_xpath(\"//div[@id='nav-typeahead-wormhole']//input[1]\")\n",
    "    searchElem.clear()\n",
    "    searchElem.send_keys(name)\n",
    "\n",
    "    searchElem.send_keys(Keys.ENTER);\n",
    "    lst_Count= driver.find_elements_by_xpath(\"//div[@class='search-result__wrapper']\")\n",
    "    \n",
    "    if len(lst_Count) == 1:\n",
    "        search = driver.find_element_by_css_selector('h3.actor-name-with-distance')\n",
    "        search.click()\n",
    "#     else:\n",
    "#         print(\"Lot's of searches\")\n",
    "\n",
    "# open new tab\n",
    "def new_tab(name):\n",
    "    print('searching ' + name + \"'s profile\")\n",
    "    url_link = \"https://www.linkedin.com/search/results/all/?keywords=\" + name + \"&origin=GLOBAL_SEARCH_HEADER\"\n",
    "    driver.execute_script(\"window.open('about:blank', 'tab2');\")\n",
    "    \n",
    "# open search in new tab\n",
    "def search_new_tab(name):\n",
    "    time.sleep(randint(6,20))\n",
    "    print('searching ' + name + \"'s profile\")\n",
    "    url_link = \"https://www.linkedin.com/search/results/all/?keywords=\" + name + \"&origin=GLOBAL_SEARCH_HEADER\"\n",
    "    \n",
    "    driver.execute_script(\"window.open('about:blank');\")\n",
    "    window_list = driver.window_handles\n",
    "    driver.switch_to.window(window_list[-1])\n",
    "    driver.get(url_link)\n",
    "    \n",
    "#     <div class=\"search-result__wrapper\">\n",
    "\n",
    "    lst_Count= driver.find_elements_by_xpath(\"//div[@class='search-result__wrapper']\")\n",
    "    if len(lst_Count) == 1:\n",
    "        time.sleep(randint(0,5))\n",
    "        search = driver.find_element_by_css_selector('h3.actor-name-with-distance')\n",
    "        search.click()\n",
    "    else: scroll()\n",
    "        \n",
    "        \n",
    "# scroll the page\n",
    "def scroll():\n",
    "    num = randint(0,2)\n",
    "    if num == 1:\n",
    "        driver.execute_script(\"window.scrollTo(0, document.body.scrollHeight);\")\n",
    "        time.sleep(randint(3,5))\n",
    "        num2 = randint(0,1)\n",
    "        if num2 == 0:\n",
    "            driver.execute_script(\"window.scrollTo(0, 0);\")\n",
    "\n",
    "def close_tab():\n",
    "    current_window = driver.current_window_handle\n",
    "    new_window = [window for window in driver.window_handles if window != current_window]\n",
    "    for i in range(len(new_window)):\n",
    "        new_window = [window for window in driver.window_handles if window != current_window][0]\n",
    "        driver.switch_to.window(new_window)\n",
    "        driver.close()\n",
    "    driver.switch_to.window(current_window)\n",
    "    driver.get(\"https://www.linkedin.com/feed/\")\n",
    "    \n",
    "def write_to_excel():\n",
    "    book = load_workbook(path)\n",
    "    writer = pd.ExcelWriter(path, engine = 'openpyxl')\n",
    "    writer.book = book\n",
    "\n",
    "    df.to_excel(writer, sheet_name=str(x))\n",
    "    writer.save()\n",
    "    writer.close()"
   ]
  },
  {
   "cell_type": "markdown",
   "metadata": {},
   "source": [
    "## Main"
   ]
  },
  {
   "cell_type": "code",
   "execution_count": 5,
   "metadata": {},
   "outputs": [],
   "source": [
    "path = r\"managers.xlsx\"\n",
    "x = 29"
   ]
  },
  {
   "cell_type": "code",
   "execution_count": 42,
   "metadata": {},
   "outputs": [
    {
     "name": "stdout",
     "output_type": "stream",
     "text": [
      "\n",
      "    ================\n",
      "    more than enough\n",
      "    ================\n",
      "              \n",
      "680 searching jim daryl teo jin liang's profile\n",
      "681 searching mohd najib mohammad's profile\n",
      "682 searching nik zurin nik mohamed's profile\n",
      "683 searching mohamed bachik mohamed hussain's profile\n",
      "684 searching chua kiow kiow's profile\n",
      "685 searching nicky lim hui siang's profile\n",
      "686 searching woo choon kong's profile\n",
      "687 searching abd wahid idris's profile\n",
      "688 searching muniandy maruthiah's profile\n",
      "689 searching choi vincent's profile\n",
      "690 searching michael loh tet fook's profile\n",
      "691 searching see beng keh's profile\n",
      "--- 193.57338523864746 seconds ---\n",
      "101% done\n"
     ]
    }
   ],
   "source": [
    "start_time = time.time()\n",
    "\n",
    "y = 20\n",
    "\n",
    "i = x*y \n",
    "j = i + y\n",
    "\n",
    "if j > len(profiles.index):\n",
    "    print('''\n",
    "    ================\n",
    "    more than enough\n",
    "    ================\n",
    "              ''')\n",
    "\n",
    "\n",
    "search = profiles[i:j]\n",
    "for index, row in search.iterrows():\n",
    "    print(row['index'], end=' ')\n",
    "    search_new_tab(row['Full Name'])\n",
    "    \n",
    "print(\"--- %s seconds ---\" % (time.time() - start_time))\n",
    "print(\"%i%% done\" % (j/len(profiles.index) * 100))"
   ]
  },
  {
   "cell_type": "markdown",
   "metadata": {},
   "source": [
    "## Collect data"
   ]
  },
  {
   "cell_type": "code",
   "execution_count": null,
   "metadata": {
    "scrolled": true
   },
   "outputs": [],
   "source": [
    "window_list = driver.window_handles\n",
    "df = pd.DataFrame()\n",
    "\n",
    "for i in range(len(window_list)):\n",
    "    driver.switch_to.window(window_list[i])\n",
    "#     time.sleep(randint(0,5))\n",
    "#     scroll()\n",
    "    \n",
    "    html = driver.page_source\n",
    "    soup = BeautifulSoup(html,'lxml')\n",
    "    url = driver.current_url\n",
    "\n",
    "    dict_profile = extract_basic_info(soup, url)\n",
    "    df2 = pd.DataFrame.from_dict(dict_profile)\n",
    "    df = df.append(df2, ignore_index=True)\n",
    "    \n",
    "df.head()\n",
    "write_to_excel()"
   ]
  },
  {
   "cell_type": "code",
   "execution_count": 40,
   "metadata": {},
   "outputs": [
    {
     "name": "stdout",
     "output_type": "stream",
     "text": [
      "['0', '1', '2', '3', '4', '5', '6', '7', '8', '9', '10', '11', '12', '13', '14', '15', '16', '17', '18', '19', '20', '21', '22', '23', '24', '25', '26', '27', '28', '29', '30', '31', '32', '33']\n"
     ]
    }
   ],
   "source": [
    "xls = pd.ExcelFile(path, on_demand = True)\n",
    "sheets = xls.sheet_names\n",
    "print(sheets)"
   ]
  },
  {
   "cell_type": "code",
   "execution_count": 41,
   "metadata": {},
   "outputs": [
    {
     "name": "stdout",
     "output_type": "stream",
     "text": [
      "34\n"
     ]
    }
   ],
   "source": [
    "close_tab()\n",
    "x += 1\n",
    "print(x)"
   ]
  },
  {
   "cell_type": "code",
   "execution_count": 2,
   "metadata": {},
   "outputs": [
    {
     "name": "stdout",
     "output_type": "stream",
     "text": [
      "[NbConvertApp] Converting notebook linkedin_scrape.ipynb to script\n",
      "[NbConvertApp] Writing 7130 bytes to linkedin_scrape.py\n"
     ]
    }
   ],
   "source": [
    "!jupyter nbconvert --to script linkedin_scrape.ipynb"
   ]
  }
 ],
 "metadata": {
  "anaconda-cloud": {},
  "kernelspec": {
   "display_name": "Python 3",
   "language": "python",
   "name": "python3"
  },
  "language_info": {
   "codemirror_mode": {
    "name": "ipython",
    "version": 3
   },
   "file_extension": ".py",
   "mimetype": "text/x-python",
   "name": "python",
   "nbconvert_exporter": "python",
   "pygments_lexer": "ipython3",
   "version": "3.7.3"
  },
  "varInspector": {
   "cols": {
    "lenName": 16,
    "lenType": 16,
    "lenVar": 40
   },
   "kernels_config": {
    "python": {
     "delete_cmd_postfix": "",
     "delete_cmd_prefix": "del ",
     "library": "var_list.py",
     "varRefreshCmd": "print(var_dic_list())"
    },
    "r": {
     "delete_cmd_postfix": ") ",
     "delete_cmd_prefix": "rm(",
     "library": "var_list.r",
     "varRefreshCmd": "cat(var_dic_list()) "
    }
   },
   "types_to_exclude": [
    "module",
    "function",
    "builtin_function_or_method",
    "instance",
    "_Feature"
   ],
   "window_display": false
  }
 },
 "nbformat": 4,
 "nbformat_minor": 2
}
