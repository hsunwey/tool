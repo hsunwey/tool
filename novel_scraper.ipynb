{
 "cells": [
  {
   "cell_type": "code",
   "execution_count": null,
   "metadata": {},
   "outputs": [],
   "source": [
    "import requests\n",
    "import re\n",
    "from bs4 import BeautifulSoup\n",
    "import time\n",
    "import random\n",
    "from ebooklib import epub #http://docs.sourcefabric.org/projects/ebooklib/en/latest/tutorial.html#creating-epub\n",
    "from IPython.display import display, clear_output"
   ]
  },
  {
   "cell_type": "code",
   "execution_count": null,
   "metadata": {
    "jupyter": {
     "source_hidden": true
    },
    "tags": []
   },
   "outputs": [],
   "source": [
    "class Page:\n",
    "    def __init__(self, url, base_url):\n",
    "        self.url = url\n",
    "        self.base_url = base_url\n",
    "        req = requests.get(self.url, headers)\n",
    "        self.soup = BeautifulSoup(req.content)\n",
    "        \n",
    "    def get_next_url(self):\n",
    "        next_url = self.soup.find('a', string=re.compile(css_nexttext))['href']\n",
    "        next_url = base_url + next_url\n",
    "        return next_url\n",
    "\n",
    "    def get_booktitle(self):\n",
    "        \"\"\"soup.find('span', class_='shuming')\"\"\"\n",
    "        title = self.soup.find(**css_booktitle).text\n",
    "        title = self._clean_text(title)\n",
    "        return title\n",
    "\n",
    "    def get_author(self):\n",
    "        \"\"\"soup.find('h1', id='timu')\"\"\"\n",
    "        author = self.soup.find(**css_author).text\n",
    "        author = self._clean_text(author)\n",
    "        return author\n",
    "    \n",
    "    def get_chaptitle(self):\n",
    "        \"\"\"soup.find('h1', id='timu')\"\"\"\n",
    "        title = self.soup.find(**css_chaptitle).text\n",
    "        title = self._clean_text(title)\n",
    "        return title\n",
    "    \n",
    "    def get_content(self):\n",
    "        \"\"\"soup.find('h1', id='timu')\"\"\"\n",
    "        # find all 'p'\n",
    "        # content = self.soup.find_all(**css_content)\n",
    "        # content = [x.get_text() for x in content]\n",
    "        # content = '\\n'.join(content)\n",
    "        content = self.soup.find('div', class_=re.compile('cont')).get_text('\\n')\n",
    "#         # print(page.soup.find('div', class_=re.compile('cont')).get_text(\"\\n\"))\n",
    "        # clean\n",
    "        content = content.strip()\n",
    "        content = content.replace('\\u3000', '\\n')\n",
    "        content = content.replace('\\xa0', '\\n')\n",
    "        content = content.replace('<br/>', '\\n')\n",
    "        \n",
    "        content = re.sub(r'\\n+', '\\n', content)\n",
    "        content = '\\t'.join(('\\n'+content.lstrip()).splitlines(keepends=True))\n",
    "        \n",
    "        # add chaptitle\n",
    "        chaptitle = self.get_chaptitle()\n",
    "        t = time.localtime()\n",
    "        current_time = time.strftime(\"%H:%M\", t)\n",
    "        content_update_info = f\"{current_time}  {chaptitle} {len(content)}\"\n",
    "        try:\n",
    "            content_display.update(content_update_info)\n",
    "        except:\n",
    "            print(content_update_info)\n",
    "        content = chaptitle + '\\n' + content\n",
    "        \n",
    "        # html\n",
    "        content = content.replace('\\n', '<br>') #.sub(r'\\n', '<br>', content) #\n",
    "        content = content.replace('\\t', '&emsp;') #.sub(r'\\t', '&emsp;', content) #\n",
    "        return content\n",
    "        \n",
    "    def _clean_text(self, text):\n",
    "        text = text.replace('小說', '')\n",
    "        text = text.replace('作者', '')\n",
    "        text = text.replace('：', ' ')\n",
    "        text = text.replace(':', ' ')\n",
    "        text = re.sub(r' +', ' ', text)\n",
    "        text = text.strip()\n",
    "        return text\n",
    "    \n",
    "\"\"\"\n",
    "utils function\n",
    "\"\"\"    \n",
    "def run_test():\n",
    "    page = Page(url, base_url)\n",
    "    print('Booktitle:\\t', page.get_booktitle())\n",
    "    print('Author:\\t\\t', page.get_author())\n",
    "    print('Chap:\\t\\t', page.get_chaptitle())\n",
    "    print('Content length:\\t', end=' ')\n",
    "    page.get_content()\n",
    "    print('Next url:\\t', page.get_next_url())\n",
    "    \n",
    "def create_book(first_page, language='zh'):\n",
    "    booktitle = first_page.get_booktitle()\n",
    "    print('Booktitle:\\t', booktitle)\n",
    "\n",
    "    # define book\n",
    "    book = epub.EpubBook()\n",
    "    book.set_title(booktitle)\n",
    "    book.set_language(language)\n",
    "    try:\n",
    "        author = first_page.get_author()\n",
    "        print('Author:\\t\\t', author)\n",
    "        book.add_author(author)\n",
    "    except:\n",
    "        print('No author added')\n",
    "    return book\n",
    "\n",
    "def create_chap(page):\n",
    "    chaptitle = page.get_chaptitle()\n",
    "    chap = epub.EpubHtml(title=chaptitle, file_name=chaptitle + '.xhtml')\n",
    "    chap.set_content(page.get_content())\n",
    "    # chap.content = content\n",
    "    return chap\n",
    "\n",
    "def write_book(book, booktitle, toc, spine):\n",
    "    # toc\n",
    "    toc = tuple(toc)\n",
    "    book.toc = toc\n",
    "\n",
    "    # add default NCX and Nav file\n",
    "    book.add_item(epub.EpubNcx())\n",
    "    book.add_item(epub.EpubNav())\n",
    "\n",
    "    # spine = tuple(spine)\n",
    "    book.spine = ['nav', *spine]\n",
    "\n",
    "    # write to the file\n",
    "    epub.write_epub('book/' + booktitle + '.epub', book, {})"
   ]
  },
  {
   "cell_type": "markdown",
   "metadata": {},
   "source": [
    "# Config"
   ]
  },
  {
   "cell_type": "code",
   "execution_count": null,
   "metadata": {},
   "outputs": [],
   "source": [
    "page_limit = 0\n",
    "# https://tw.uukanshu.com/b/16893/52390.html\n",
    "url = \"\"\"\n",
    "https://tw.uukanshu.com/b/62531/1389.html\n",
    "\"\"\"\n",
    "url = url.strip()\n",
    "base_url = 'https://tw.uukanshu.com'\n",
    "\n",
    "# css\n",
    "css_booktitle    = {'name': 'span', 'class_': 'shuming'}\n",
    "css_author       = {'name': 'span', 'class_': 'author'}\n",
    "css_chaptitle    = {'name': 'h1', 'id': 'timu'}\n",
    "css_content      = {'name': 'p'}\n",
    "css_nexttext     = '下一章'\n",
    "\n",
    "# optional\n",
    "language = 'zh'\n",
    "file_format = \"epub\"\n",
    "\n",
    "headers = {\n",
    "    'Access-Control-Allow-Origin': '*',\n",
    "    'Access-Control-Allow-Methods': 'GET',\n",
    "    'Access-Control-Allow-Headers': 'Content-Type',\n",
    "    'Access-Control-Max-Age': '3600',\n",
    "    'User-Agent': 'Mozilla/5.0 (X11; Ubuntu; Linux x86_64; rv:52.0) Gecko/20100101 Firefox/52.0'\n",
    "    }\n",
    "\n",
    "run_test()"
   ]
  },
  {
   "cell_type": "markdown",
   "metadata": {},
   "source": [
    "# Save book"
   ]
  },
  {
   "cell_type": "code",
   "execution_count": null,
   "metadata": {},
   "outputs": [],
   "source": [
    "first_page = Page(url, base_url)\n",
    "booktitle = first_page.get_booktitle()\n",
    "author = first_page.get_author()\n",
    "cnt = 0\n",
    "\n",
    "\"\"\"\n",
    "declare file format\n",
    "\"\"\"\n",
    "if file_format == 'epub':\n",
    "    book = create_book(first_page, language=language)\n",
    "    # define toc\n",
    "    toc = []\n",
    "    spine = []\n",
    "else:\n",
    "    filename = booktitle + \".txt\"\n",
    "    f = open(filename, \"a+\")\n",
    "    \n",
    "# print current chapter\n",
    "content_display = display('Getting chapter content...', display_id=True)"
   ]
  },
  {
   "cell_type": "code",
   "execution_count": null,
   "metadata": {
    "tags": []
   },
   "outputs": [],
   "source": [
    "# print('Booktitle:\\t', booktitle)\n",
    "# print('Author:\\t\\t', author)\n",
    "\"\"\"\n",
    "start scraping\n",
    "\"\"\"\n",
    "while cnt < page_limit or page_limit == 0:\n",
    "    time.sleep(random.randint(1, 4))\n",
    "    cnt += 1\n",
    "    \n",
    "    page = Page(url, base_url)\n",
    "    \n",
    "    # save as epub or txt file\n",
    "    if file_format == 'epub':\n",
    "        chap = create_chap(page)\n",
    "\n",
    "        # add chap\n",
    "        book.add_item(chap)\n",
    "        spine.append(chap)\n",
    "        # create toc\n",
    "        link = epub.Link(chap.file_name, chap.title, chap.id)\n",
    "        toc.append(link)\n",
    "    else:\n",
    "        f.write(page.get_content())\n",
    "\n",
    "    # get next url\n",
    "    if page_limit == 1: break\n",
    "    try:\n",
    "        next_url = page.get_next_url()\n",
    "        url = next_url\n",
    "    except:\n",
    "        print(\"End of url\")\n",
    "        break"
   ]
  },
  {
   "cell_type": "code",
   "execution_count": null,
   "metadata": {},
   "outputs": [],
   "source": [
    "\"\"\"\n",
    "save file\n",
    "\"\"\"\n",
    "if file_format == 'epub':\n",
    "    write_book(book, booktitle, toc, spine)\n",
    "else:\n",
    "    f.close()\n",
    "\n",
    "print(\"====\\nDONE\")"
   ]
  },
  {
   "cell_type": "code",
   "execution_count": null,
   "metadata": {},
   "outputs": [],
   "source": []
  },
  {
   "cell_type": "code",
   "execution_count": null,
   "metadata": {},
   "outputs": [],
   "source": [
    "assert False, \"breakpoint\""
   ]
  },
  {
   "cell_type": "markdown",
   "metadata": {},
   "source": [
    "# Test"
   ]
  },
  {
   "cell_type": "code",
   "execution_count": null,
   "metadata": {},
   "outputs": [],
   "source": [
    "page = Page(url, base_url)\n",
    "print(page.get_content())\n",
    "# page.get_content()"
   ]
  },
  {
   "cell_type": "code",
   "execution_count": null,
   "metadata": {},
   "outputs": [],
   "source": [
    "print(page.soup.find('div', class_=re.compile('cont')).get_text(\"\\n\"))\n",
    "# page.soup.find('div', class_=re.compile('cont')).get_text(\"\\n\")"
   ]
  },
  {
   "cell_type": "code",
   "execution_count": null,
   "metadata": {},
   "outputs": [],
   "source": []
  },
  {
   "cell_type": "code",
   "execution_count": null,
   "metadata": {},
   "outputs": [],
   "source": []
  }
 ],
 "metadata": {
  "kernelspec": {
   "display_name": "Python 3 (ipykernel)",
   "language": "python",
   "name": "python3"
  },
  "language_info": {
   "codemirror_mode": {
    "name": "ipython",
    "version": 3
   },
   "file_extension": ".py",
   "mimetype": "text/x-python",
   "name": "python",
   "nbconvert_exporter": "python",
   "pygments_lexer": "ipython3",
   "version": "3.10.0"
  }
 },
 "nbformat": 4,
 "nbformat_minor": 4
}
