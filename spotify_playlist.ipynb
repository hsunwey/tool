{
 "cells": [
  {
   "cell_type": "markdown",
   "metadata": {},
   "source": [
    "# Create Spotify playlist from list"
   ]
  },
  {
   "cell_type": "markdown",
   "metadata": {},
   "source": [
    "丁曉雯"
   ]
  },
  {
   "cell_type": "code",
   "execution_count": 3,
   "metadata": {},
   "outputs": [],
   "source": [
    "import requests\n",
    "import json\n",
    "import re\n",
    "import pandas as pd\n",
    "\n",
    "def prettify(json_file):\n",
    "    \"\"\"output pretty json\n",
    "    \"\"\"\n",
    "    parsed = json.loads(json_file)\n",
    "    return json.dumps(parsed, indent=4, sort_keys=True)\n",
    "\n",
    "def append_song(text):\n",
    "    \"\"\"append track id to a list\"\"\"\n",
    "    track = re.findall(r'\"spotify:track:(.*?)\"', text)[0]\n",
    "    if track is not None:\n",
    "        song_list.append(track)\n",
    "    return song_list\n",
    "\n",
    "def search_song(term):\n",
    "    \"\"\"search for songs on spotify and add to list\n",
    "    \"\"\"\n",
    "    url = \"https://api.spotify.com/v1/search?q=\"+term+\"&type=track\"\n",
    "    headers = {'Accept' : 'application/json', 'Content-Type' : 'application/json', 'Authorization' : 'Bearer ' + token}\n",
    "    r = requests.get(url, headers=headers)\n",
    "    parsed_json = json.loads(r.text)\n",
    "    if parsed_json['tracks']['total'] != 0:\n",
    "        append_song(r.text)\n",
    "    else:\n",
    "        # song unavailable\n",
    "        return False\n",
    "    return True\n",
    "\n",
    "def add_song(term):\n",
    "    \"\"\"add song to spotify playlist\n",
    "    \"\"\"\n",
    "    url = \"https://api.spotify.com/v1/playlists/\"+playlist_id+\"/tracks?uris=spotify%3Atrack%3A\"+term\n",
    "    headers = {'Accept' : 'application/json', 'Content-Type' : 'application/json', 'Authorization' : 'Bearer ' + token}\n",
    "    r = requests.post(url, headers=headers)\n",
    "#     print(r.text)\n",
    "    return"
   ]
  },
  {
   "cell_type": "code",
   "execution_count": 130,
   "metadata": {},
   "outputs": [],
   "source": [
    "# https://developer.spotify.com/console/post-playlist-tracks/?playlist_id=&position=&uris=\n",
    "song_list = []\n",
    "na_list = []\n",
    "playlist_id = '6srqweC5oZeihgMnbbnUNE'\n",
    "link = \"https://zh.wikipedia.org/wiki/%E7%AC%AC%E5%8D%81%E4%B8%83%E5%B1%86%E5%8D%81%E5%A4%A7%E4%B8%AD%E6%96%87%E9%87%91%E6%9B%B2%E5%BE%97%E7%8D%8E%E5%90%8D%E5%96%AE\"\n",
    "token = \"BQA85c9Ba0u9H1nk-HalaPc9nGKOjAblafLTFBQlWu_dPl34Q_HUDt8uCVTH7-hiXuMnDe2POienBZpVd-X1W3J3jqlHqc7xR96WvQ-ekOTDRAlI5jnrQcNic2iWivNZp0rCTU-mbSYV7yFR1StG-BKrOAx59NXttr09_2_JdWRa24ybiFJrQAHnkUerwx-8oUnTgA\"\n",
    "\n",
    "text = \"\"\"    《我們的主題曲》（主唱：鄭秀文 作曲：吳國敬 填詞：黃偉文）\n",
    "    《愛的呼喚》（主唱：郭富城 作曲：譚國政 填詞：小美）\n",
    "    《不老的傳說》（主唱：張學友 作曲：Dick Lee 填詞：古倩敏）\n",
    "    《明知故犯》（主唱：許美靜 作曲：陳佳明 填詞：林夕）\n",
    "    《星夢情真》（主唱：陳慧琳 作曲：雷頌德 填詞：黃偉文）\n",
    "    《只要為我愛一天》（主唱：黎明 作曲：雷頌德 填詞：林夕）\n",
    "    《歡樂今宵》（主唱：古巨基 作曲：黃丹儀 填詞：黃偉文）\n",
    "    《中國人》（主唱：劉德華 作曲：陳耀川 填詞：李安修）\n",
    "    《你快樂所以我快樂》（主唱：王菲 作曲：張亞東 填詞：林夕）\n",
    "    《愛是永恆》（主唱：張學友 作曲：Dick Lee 填詞：林振強）\"\"\""
   ]
  },
  {
   "cell_type": "markdown",
   "metadata": {},
   "source": [
    "## Text"
   ]
  },
  {
   "cell_type": "code",
   "execution_count": 131,
   "metadata": {
    "scrolled": true
   },
   "outputs": [],
   "source": [
    "songs_to_search = text.splitlines()\n",
    "\n",
    "for i in range(len(songs_to_search)):\n",
    "    songs_to_search[i] = songs_to_search[i].split('––')[0]\n",
    "    songs_to_search[i] = songs_to_search[i].split('——')[0]\n",
    "    songs_to_search[i] = songs_to_search[i].split('－')[0]\n",
    "    songs_to_search[i] = songs_to_search[i].split('（')[0]\n",
    "    if '《' in songs_to_search[i]:\n",
    "        songs_to_search[i] = re.findall(r'《(.*?)》', songs_to_search[i])[0]\n",
    "\n",
    "# songs_to_search"
   ]
  },
  {
   "cell_type": "markdown",
   "metadata": {},
   "source": [
    "## HTML"
   ]
  },
  {
   "cell_type": "code",
   "execution_count": null,
   "metadata": {},
   "outputs": [],
   "source": [
    "website = pd.read_html(link)"
   ]
  },
  {
   "cell_type": "code",
   "execution_count": 107,
   "metadata": {
    "scrolled": false
   },
   "outputs": [
    {
     "data": {
      "text/html": [
       "<div>\n",
       "<style scoped>\n",
       "    .dataframe tbody tr th:only-of-type {\n",
       "        vertical-align: middle;\n",
       "    }\n",
       "\n",
       "    .dataframe tbody tr th {\n",
       "        vertical-align: top;\n",
       "    }\n",
       "\n",
       "    .dataframe thead tr th {\n",
       "        text-align: left;\n",
       "    }\n",
       "</style>\n",
       "<table border=\"1\" class=\"dataframe\">\n",
       "  <thead>\n",
       "    <tr>\n",
       "      <th></th>\n",
       "      <th colspan=\"6\" halign=\"left\">十大中文金曲得獎名單（按頒獎次序排序）</th>\n",
       "    </tr>\n",
       "    <tr>\n",
       "      <th></th>\n",
       "      <th>編號</th>\n",
       "      <th>歌曲</th>\n",
       "      <th>作曲</th>\n",
       "      <th>作詞</th>\n",
       "      <th>主唱</th>\n",
       "      <th>專輯</th>\n",
       "    </tr>\n",
       "  </thead>\n",
       "  <tbody>\n",
       "    <tr>\n",
       "      <th>0</th>\n",
       "      <td>64</td>\n",
       "      <td>餓狼傳說</td>\n",
       "      <td>劉諾生</td>\n",
       "      <td>潘偉源</td>\n",
       "      <td>张学友</td>\n",
       "      <td>《餓狼傳說》</td>\n",
       "    </tr>\n",
       "    <tr>\n",
       "      <th>1</th>\n",
       "      <td>36</td>\n",
       "      <td>那有一天不想你</td>\n",
       "      <td>林慕德</td>\n",
       "      <td>向雪懷</td>\n",
       "      <td>黎明</td>\n",
       "      <td>《天地情緣》</td>\n",
       "    </tr>\n",
       "    <tr>\n",
       "      <th>2</th>\n",
       "      <td>15</td>\n",
       "      <td>女人的弱點</td>\n",
       "      <td>CHAGE and ASKA</td>\n",
       "      <td>潘源良</td>\n",
       "      <td>葉蒨文</td>\n",
       "      <td>《女人的弱點》</td>\n",
       "    </tr>\n",
       "    <tr>\n",
       "      <th>3</th>\n",
       "      <td>69</td>\n",
       "      <td>心酸的情歌</td>\n",
       "      <td>巫啟賢</td>\n",
       "      <td>劉德華</td>\n",
       "      <td>巫啟賢</td>\n",
       "      <td>《心酸的情歌》</td>\n",
       "    </tr>\n",
       "    <tr>\n",
       "      <th>4</th>\n",
       "      <td>68</td>\n",
       "      <td>繾綣星光下</td>\n",
       "      <td>Jl DabadieLunghin</td>\n",
       "      <td>周禮茂</td>\n",
       "      <td>關淑怡</td>\n",
       "      <td>《My Way》</td>\n",
       "    </tr>\n",
       "    <tr>\n",
       "      <th>5</th>\n",
       "      <td>79</td>\n",
       "      <td>忘情水（國）</td>\n",
       "      <td>陳耀川</td>\n",
       "      <td>李安修</td>\n",
       "      <td>劉德華</td>\n",
       "      <td>《忘情水》</td>\n",
       "    </tr>\n",
       "    <tr>\n",
       "      <th>6</th>\n",
       "      <td>88</td>\n",
       "      <td>鐵幕誘惑</td>\n",
       "      <td>譚國政</td>\n",
       "      <td>小美林夕</td>\n",
       "      <td>郭富城</td>\n",
       "      <td>《鐵幕誘惑》</td>\n",
       "    </tr>\n",
       "    <tr>\n",
       "      <th>7</th>\n",
       "      <td>86</td>\n",
       "      <td>誰人知</td>\n",
       "      <td>張影坤</td>\n",
       "      <td>林夕</td>\n",
       "      <td>劉德華</td>\n",
       "      <td>《5時30分》</td>\n",
       "    </tr>\n",
       "    <tr>\n",
       "      <th>8</th>\n",
       "      <td>1</td>\n",
       "      <td>冷戰</td>\n",
       "      <td>Amos Tori</td>\n",
       "      <td>林夕</td>\n",
       "      <td>王靖雯</td>\n",
       "      <td>《十萬個為什麼？》</td>\n",
       "    </tr>\n",
       "    <tr>\n",
       "      <th>9</th>\n",
       "      <td>67</td>\n",
       "      <td>來來回回</td>\n",
       "      <td>杉田裕</td>\n",
       "      <td>周禮茂</td>\n",
       "      <td>張學友</td>\n",
       "      <td>《餓狼傳說》</td>\n",
       "    </tr>\n",
       "  </tbody>\n",
       "</table>\n",
       "</div>"
      ],
      "text/plain": [
       "  十大中文金曲得獎名單（按頒獎次序排序）                                                  \n",
       "                   編號       歌曲                 作曲    作詞   主唱         專輯\n",
       "0                  64     餓狼傳說                劉諾生   潘偉源  张学友     《餓狼傳說》\n",
       "1                  36  那有一天不想你                林慕德   向雪懷   黎明     《天地情緣》\n",
       "2                  15    女人的弱點     CHAGE and ASKA   潘源良  葉蒨文    《女人的弱點》\n",
       "3                  69    心酸的情歌                巫啟賢   劉德華  巫啟賢    《心酸的情歌》\n",
       "4                  68    繾綣星光下  Jl DabadieLunghin   周禮茂  關淑怡   《My Way》\n",
       "5                  79   忘情水（國）                陳耀川   李安修  劉德華      《忘情水》\n",
       "6                  88     鐵幕誘惑                譚國政  小美林夕  郭富城     《鐵幕誘惑》\n",
       "7                  86      誰人知                張影坤    林夕  劉德華    《5時30分》\n",
       "8                   1       冷戰          Amos Tori    林夕  王靖雯  《十萬個為什麼？》\n",
       "9                  67     來來回回                杉田裕   周禮茂  張學友     《餓狼傳說》"
      ]
     },
     "execution_count": 107,
     "metadata": {},
     "output_type": "execute_result"
    }
   ],
   "source": [
    "all_songs = website[1]\n",
    "all_songs"
   ]
  },
  {
   "cell_type": "code",
   "execution_count": 111,
   "metadata": {},
   "outputs": [
    {
     "data": {
      "text/plain": [
       "MultiIndex([('十大中文金曲得獎名單（按頒獎次序排序）',     '編號'),\n",
       "            ('十大中文金曲得獎名單（按頒獎次序排序）',  'title'),\n",
       "            ('十大中文金曲得獎名單（按頒獎次序排序）',     '作曲'),\n",
       "            ('十大中文金曲得獎名單（按頒獎次序排序）',     '作詞'),\n",
       "            ('十大中文金曲得獎名單（按頒獎次序排序）', 'artist'),\n",
       "            ('十大中文金曲得獎名單（按頒獎次序排序）',     '專輯')],\n",
       "           )"
      ]
     },
     "execution_count": 111,
     "metadata": {},
     "output_type": "execute_result"
    }
   ],
   "source": [
    "all_songs.columns"
   ]
  },
  {
   "cell_type": "code",
   "execution_count": 112,
   "metadata": {
    "scrolled": false
   },
   "outputs": [],
   "source": [
    "all_songs.rename(columns={\"歌曲\": \"title\", \"主唱\": \"artist\"}, inplace=True)\n",
    "# all_songs['title'] = all_songs['title'].apply(lambda x: re.findall(r'《(.*?)》', x)[0])\n",
    "songs_to_search = all_songs[('十大中文金曲得獎名單（按頒獎次序排序）',  'title')]\n",
    "# all_songs[['title', 'artist']]"
   ]
  },
  {
   "cell_type": "markdown",
   "metadata": {},
   "source": [
    "## Create playlist"
   ]
  },
  {
   "cell_type": "code",
   "execution_count": 132,
   "metadata": {
    "scrolled": false
   },
   "outputs": [
    {
     "name": "stdout",
     "output_type": "stream",
     "text": [
      "我們的主題曲\n",
      "愛的呼喚\n",
      "不老的傳說\n",
      "明知故犯\n",
      "星夢情真\n",
      "只要為我愛一天\n",
      "歡樂今宵\n",
      "中國人\n",
      "你快樂所以我快樂\n",
      "愛是永恆\n"
     ]
    }
   ],
   "source": [
    "for i in songs_to_search:\n",
    "    if not search_song(i):\n",
    "        print(\" unavailable          \", end=\"\")\n",
    "    print(i)\n",
    "#     print(all_songs[all_songs['title']==i][['title', 'artist']].to_string(header=False))\n",
    "    \n",
    "# create playlist and add\n",
    "for i in song_list:\n",
    "    add_song(i)"
   ]
  },
  {
   "cell_type": "code",
   "execution_count": null,
   "metadata": {},
   "outputs": [],
   "source": []
  }
 ],
 "metadata": {
  "kernelspec": {
   "display_name": "Python 3",
   "language": "python",
   "name": "python3"
  },
  "language_info": {
   "codemirror_mode": {
    "name": "ipython",
    "version": 3
   },
   "file_extension": ".py",
   "mimetype": "text/x-python",
   "name": "python",
   "nbconvert_exporter": "python",
   "pygments_lexer": "ipython3",
   "version": "3.8.1"
  }
 },
 "nbformat": 4,
 "nbformat_minor": 2
}
