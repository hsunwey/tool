{
 "cells": [
  {
   "cell_type": "code",
   "execution_count": 1,
   "metadata": {},
   "outputs": [],
   "source": [
    "from selenium import webdriver\n",
    "from selenium.webdriver.common.keys import Keys\n",
    "import time"
   ]
  },
  {
   "cell_type": "code",
   "execution_count": 2,
   "metadata": {},
   "outputs": [],
   "source": [
    "driver = webdriver.Chrome()\n",
    "driver.get('http://203.80.17.22/survey/')"
   ]
  },
  {
   "cell_type": "code",
   "execution_count": 3,
   "metadata": {},
   "outputs": [],
   "source": [
    "def try_again(button_name, button_type):\n",
    "    print(\"Try again \" + button_name)\n",
    "#     next_page(button_name, button_type)\n",
    "    \n",
    "def next_page(button_name, button_type):\n",
    "        \n",
    "    prev = driver.current_url\n",
    "    \n",
    "    if button_type == 'id':\n",
    "        try:\n",
    "            button = driver.find_element_by_id(button_name)\n",
    "        except:\n",
    "            try_again(button_name, button_type)\n",
    "    elif button_type == 'text':\n",
    "        try:\n",
    "            button = driver.find_element_by_link_text(button_name)\n",
    "        except:\n",
    "            try_again(button_name, button_type)\n",
    "        \n",
    "    button.click()\n",
    "    curr = driver.current_url\n",
    "    if prev == curr:\n",
    "        time.sleep(10)\n",
    "        try_again(button_name, button_type)\n",
    "    else:\n",
    "        print(\"Success \" + button_name)"
   ]
  },
  {
   "cell_type": "code",
   "execution_count": 4,
   "metadata": {},
   "outputs": [
    {
     "name": "stdout",
     "output_type": "stream",
     "text": [
      "Success Log Masuk\n"
     ]
    }
   ],
   "source": [
    "# login = driver.find_element_by_link_text('Log Masuk')\n",
    "# login.click()\n",
    "next_page('Log Masuk', 'text')"
   ]
  },
  {
   "cell_type": "code",
   "execution_count": 5,
   "metadata": {},
   "outputs": [],
   "source": [
    "uni = driver.find_element_by_xpath(\"//option[text()='Universiti Malaya']\")\n",
    "uni.click()\n",
    "\n",
    "username = driver.find_element_by_id('txtusername')\n",
    "username.clear()\n",
    "username.send_keys('WIF160000')\n",
    "\n",
    "password = driver.find_element_by_id('txtpassword')\n",
    "password.send_keys('970000005555')"
   ]
  },
  {
   "cell_type": "code",
   "execution_count": 6,
   "metadata": {},
   "outputs": [
    {
     "name": "stdout",
     "output_type": "stream",
     "text": [
      "Try again btnlogin\n"
     ]
    }
   ],
   "source": [
    "# button = driver.find_element_by_id('btnlogin')\n",
    "# button.click()\n",
    "next_page('btnlogin', 'id')"
   ]
  },
  {
   "cell_type": "code",
   "execution_count": 7,
   "metadata": {},
   "outputs": [
    {
     "name": "stdout",
     "output_type": "stream",
     "text": [
      "Success btnnext\n"
     ]
    }
   ],
   "source": [
    "# cont = driver.find_element_by_id('btnnext')\n",
    "# cont.click()\n",
    "time.sleep(5)\n",
    "next_page('btnnext', 'id')"
   ]
  },
  {
   "cell_type": "code",
   "execution_count": 8,
   "metadata": {},
   "outputs": [],
   "source": [
    "def click_all(number):\n",
    "    for i in range(len(number)):\n",
    "        input_id = 'lvCartonsPackages_ctrl' + str(i) + '_rdMarkah_5'\n",
    "        radio = driver.find_element_by_id(input_id)\n",
    "        radio.click()"
   ]
  },
  {
   "cell_type": "code",
   "execution_count": 9,
   "metadata": {},
   "outputs": [
    {
     "name": "stdout",
     "output_type": "stream",
     "text": [
      "Clicked but not working\n"
     ]
    }
   ],
   "source": [
    "# next_page = driver.find_element_by_id(\"lstPaging_lnkNext\")\n",
    "\n",
    "# lst_count= driver.find_elements_by_xpath(\"//table[@class='table  table-bordered table-condensed mampat ']\")\n",
    "# click_all(lst_count)\n",
    "# next_page.click()\n",
    "# next_page = driver.find_element_by_id(\"lstPaging_lnkNext\")\n",
    "\n",
    "def hentam():\n",
    "    prev = driver.current_url\n",
    "    try:\n",
    "#         button = driver.find_element_by_id(\"lstPaging_lnkNext\")\n",
    "        button = driver.find_element_by_link_text('Seterusnya')\n",
    "        \n",
    "        lst_count= driver.find_elements_by_xpath(\"//table[@class='table  table-bordered table-condensed mampat ']\")\n",
    "        click_all(lst_count)\n",
    "        \n",
    "        button.click()\n",
    "        \n",
    "        if prev == driver.current_url:\n",
    "            print(\"Clicked but not working\")\n",
    "#             button.click()\n",
    "#             time.sleep(2)\n",
    "            \n",
    "#         hentam()\n",
    "            \n",
    "    except:\n",
    "        print(\"Error msg\")\n",
    "\n",
    "    \n",
    "hentam()"
   ]
  },
  {
   "cell_type": "code",
   "execution_count": 19,
   "metadata": {},
   "outputs": [],
   "source": [
    "lst_count= driver.find_elements_by_xpath(\"//table[@class='table  table-bordered table-condensed mampat ']\")\n",
    "click_all(lst_count)"
   ]
  },
  {
   "cell_type": "code",
   "execution_count": 20,
   "metadata": {},
   "outputs": [],
   "source": [
    "next_page = driver.find_element_by_link_text('Seterusnya')\n",
    "next_page.click()"
   ]
  },
  {
   "cell_type": "code",
   "execution_count": 21,
   "metadata": {},
   "outputs": [],
   "source": [
    "driver.refresh()"
   ]
  }
 ],
 "metadata": {
  "kernelspec": {
   "display_name": "Python 3",
   "language": "python",
   "name": "python3"
  },
  "language_info": {
   "codemirror_mode": {
    "name": "ipython",
    "version": 3
   },
   "file_extension": ".py",
   "mimetype": "text/x-python",
   "name": "python",
   "nbconvert_exporter": "python",
   "pygments_lexer": "ipython3",
   "version": "3.7.3"
  }
 },
 "nbformat": 4,
 "nbformat_minor": 2
}
