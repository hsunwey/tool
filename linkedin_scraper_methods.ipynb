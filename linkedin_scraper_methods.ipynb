{
 "cells": [
  {
   "cell_type": "code",
   "execution_count": 19,
   "metadata": {
    "scrolled": true
   },
   "outputs": [],
   "source": [
    "from selenium import webdriver\n",
    "from selenium.webdriver.common.keys import Keys\n",
    "from selenium.webdriver.common.touch_actions import TouchActions\n",
    "from selenium.common.exceptions import NoSuchElementException\n",
    "\n",
    "from random import randint\n",
    "from bs4 import BeautifulSoup\n",
    "import pandas as pd\n",
    "import time\n",
    "import json"
   ]
  },
  {
   "cell_type": "markdown",
   "metadata": {},
   "source": [
    "<b>Launch a webdriver instance</b>"
   ]
  },
  {
   "cell_type": "code",
   "execution_count": 59,
   "metadata": {},
   "outputs": [],
   "source": [
    "driver = webdriver.Chrome()"
   ]
  },
  {
   "cell_type": "markdown",
   "metadata": {},
   "source": [
    "<b>Go to LinkedIn page and log in </b>"
   ]
  },
  {
   "cell_type": "code",
   "execution_count": 60,
   "metadata": {},
   "outputs": [],
   "source": [
    "## Go to LinkedIn homepage\n",
    "driver.get('http://linkedin.com')\n",
    "# driver.get('https://www.eventbrite.com/d/malaysia--kuala-lumpur/events/?q=&loc=Kuala%20Lumpur%2C%20Malaysia&date=')"
   ]
  },
  {
   "cell_type": "code",
   "execution_count": 61,
   "metadata": {},
   "outputs": [],
   "source": [
    "## Logging in to LinkedIn\n",
    "emailElem = driver.find_element_by_id('login-email')\n",
    "emailElem.send_keys('@protonmail.com')\n",
    "\n",
    "passwordElem = driver.find_element_by_id('login-password')\n",
    "passwordElem.send_keys('pw')\n",
    "passwordElem.submit()"
   ]
  },
  {
   "cell_type": "markdown",
   "metadata": {},
   "source": [
    "<b>List of profiles to scrape</b>"
   ]
  },
  {
   "cell_type": "code",
   "execution_count": 24,
   "metadata": {},
   "outputs": [],
   "source": [
    "profiles = pd.read_excel('Phase 1 CADS segmented Alumni 12.03 ZJ V1.xlsx', sheet_name='Certified', usecols=[2])"
   ]
  },
  {
   "cell_type": "code",
   "execution_count": 25,
   "metadata": {
    "scrolled": true
   },
   "outputs": [
    {
     "data": {
      "text/html": [
       "<div>\n",
       "<style scoped>\n",
       "    .dataframe tbody tr th:only-of-type {\n",
       "        vertical-align: middle;\n",
       "    }\n",
       "\n",
       "    .dataframe tbody tr th {\n",
       "        vertical-align: top;\n",
       "    }\n",
       "\n",
       "    .dataframe thead th {\n",
       "        text-align: right;\n",
       "    }\n",
       "</style>\n",
       "<table border=\"1\" class=\"dataframe\">\n",
       "  <thead>\n",
       "    <tr style=\"text-align: right;\">\n",
       "      <th></th>\n",
       "      <th>Name</th>\n",
       "    </tr>\n",
       "  </thead>\n",
       "  <tbody>\n",
       "    <tr>\n",
       "      <th>0</th>\n",
       "      <td>How Kok Sheng</td>\n",
       "    </tr>\n",
       "    <tr>\n",
       "      <th>1</th>\n",
       "      <td>Tharmaraja A/L Arumugam</td>\n",
       "    </tr>\n",
       "    <tr>\n",
       "      <th>2</th>\n",
       "      <td>Karrthigeyan A/L Mohanadas</td>\n",
       "    </tr>\n",
       "    <tr>\n",
       "      <th>3</th>\n",
       "      <td>Tan Pei Pei</td>\n",
       "    </tr>\n",
       "    <tr>\n",
       "      <th>4</th>\n",
       "      <td>Azurawati Binti Abdul Halim</td>\n",
       "    </tr>\n",
       "  </tbody>\n",
       "</table>\n",
       "</div>"
      ],
      "text/plain": [
       "                          Name\n",
       "0                How Kok Sheng\n",
       "1      Tharmaraja A/L Arumugam\n",
       "2   Karrthigeyan A/L Mohanadas\n",
       "3                  Tan Pei Pei\n",
       "4  Azurawati Binti Abdul Halim"
      ]
     },
     "execution_count": 25,
     "metadata": {},
     "output_type": "execute_result"
    }
   ],
   "source": [
    "profiles.head()"
   ]
  },
  {
   "cell_type": "code",
   "execution_count": 26,
   "metadata": {},
   "outputs": [],
   "source": [
    "profiles['Name'] = profiles['Name'].dropna().apply(lambda x: x.lower().replace('/','').replace(\n",
    "    'binti','bin').replace('ap','bin').replace('al','bin'))"
   ]
  },
  {
   "cell_type": "code",
   "execution_count": 27,
   "metadata": {},
   "outputs": [],
   "source": [
    "new = profiles['Name'].str.split(' bin ', n = 1, expand = True)\n",
    "\n",
    "profiles['First Name']= new[0]\n",
    "profiles['Last Name']= new[1]\n",
    "\n",
    "profiles['Full Name'] = profiles['First Name'] + \" \" + profiles['Last Name']"
   ]
  },
  {
   "cell_type": "code",
   "execution_count": 28,
   "metadata": {},
   "outputs": [],
   "source": [
    "profiles['Full Name'].fillna(value=profiles['Name'], inplace=True)"
   ]
  },
  {
   "cell_type": "code",
   "execution_count": 29,
   "metadata": {},
   "outputs": [],
   "source": [
    "profiles.reset_index(inplace=True)"
   ]
  },
  {
   "cell_type": "code",
   "execution_count": 30,
   "metadata": {},
   "outputs": [
    {
     "data": {
      "text/html": [
       "<div>\n",
       "<style scoped>\n",
       "    .dataframe tbody tr th:only-of-type {\n",
       "        vertical-align: middle;\n",
       "    }\n",
       "\n",
       "    .dataframe tbody tr th {\n",
       "        vertical-align: top;\n",
       "    }\n",
       "\n",
       "    .dataframe thead th {\n",
       "        text-align: right;\n",
       "    }\n",
       "</style>\n",
       "<table border=\"1\" class=\"dataframe\">\n",
       "  <thead>\n",
       "    <tr style=\"text-align: right;\">\n",
       "      <th></th>\n",
       "      <th>index</th>\n",
       "      <th>Name</th>\n",
       "      <th>First Name</th>\n",
       "      <th>Last Name</th>\n",
       "      <th>Full Name</th>\n",
       "    </tr>\n",
       "  </thead>\n",
       "  <tbody>\n",
       "    <tr>\n",
       "      <th>0</th>\n",
       "      <td>0</td>\n",
       "      <td>how kok sheng</td>\n",
       "      <td>how kok sheng</td>\n",
       "      <td>None</td>\n",
       "      <td>how kok sheng</td>\n",
       "    </tr>\n",
       "    <tr>\n",
       "      <th>1</th>\n",
       "      <td>1</td>\n",
       "      <td>tharmaraja bin arumugam</td>\n",
       "      <td>tharmaraja</td>\n",
       "      <td>arumugam</td>\n",
       "      <td>tharmaraja arumugam</td>\n",
       "    </tr>\n",
       "    <tr>\n",
       "      <th>2</th>\n",
       "      <td>2</td>\n",
       "      <td>karrthigeyan bin mohanadas</td>\n",
       "      <td>karrthigeyan</td>\n",
       "      <td>mohanadas</td>\n",
       "      <td>karrthigeyan mohanadas</td>\n",
       "    </tr>\n",
       "    <tr>\n",
       "      <th>3</th>\n",
       "      <td>3</td>\n",
       "      <td>tan pei pei</td>\n",
       "      <td>tan pei pei</td>\n",
       "      <td>None</td>\n",
       "      <td>tan pei pei</td>\n",
       "    </tr>\n",
       "    <tr>\n",
       "      <th>4</th>\n",
       "      <td>4</td>\n",
       "      <td>azurawati bin abdul hbinim</td>\n",
       "      <td>azurawati</td>\n",
       "      <td>abdul hbinim</td>\n",
       "      <td>azurawati abdul hbinim</td>\n",
       "    </tr>\n",
       "  </tbody>\n",
       "</table>\n",
       "</div>"
      ],
      "text/plain": [
       "   index                        Name     First Name     Last Name  \\\n",
       "0      0               how kok sheng  how kok sheng          None   \n",
       "1      1     tharmaraja bin arumugam     tharmaraja      arumugam   \n",
       "2      2  karrthigeyan bin mohanadas   karrthigeyan     mohanadas   \n",
       "3      3                 tan pei pei    tan pei pei          None   \n",
       "4      4  azurawati bin abdul hbinim      azurawati  abdul hbinim   \n",
       "\n",
       "                Full Name  \n",
       "0           how kok sheng  \n",
       "1     tharmaraja arumugam  \n",
       "2  karrthigeyan mohanadas  \n",
       "3             tan pei pei  \n",
       "4  azurawati abdul hbinim  "
      ]
     },
     "execution_count": 30,
     "metadata": {},
     "output_type": "execute_result"
    }
   ],
   "source": [
    "profiles.head()"
   ]
  },
  {
   "cell_type": "markdown",
   "metadata": {},
   "source": [
    "<b>Fetch page HTML source"
   ]
  },
  {
   "cell_type": "code",
   "execution_count": 31,
   "metadata": {},
   "outputs": [],
   "source": [
    "def fetch_html(driver):\n",
    "    return driver.page_source\n",
    "\n",
    "def parse_html(driver, html):\n",
    "    return BeautifulSoup(html,'lxml')"
   ]
  },
  {
   "cell_type": "code",
   "execution_count": 32,
   "metadata": {},
   "outputs": [],
   "source": [
    "html = driver.page_source\n",
    "soup = BeautifulSoup(html,'lxml')\n",
    "url = driver.current_url;"
   ]
  },
  {
   "cell_type": "markdown",
   "metadata": {},
   "source": [
    "<b>Extract info from HTML </b>"
   ]
  },
  {
   "cell_type": "code",
   "execution_count": 33,
   "metadata": {},
   "outputs": [],
   "source": [
    "def extract_basic_info(soup, url):\n",
    "    \n",
    "    if soup.find('h1', {'class':'pv-top-card-section__name inline t-24 t-black t-normal'}):\n",
    "        name = soup.find('h1', {'class':'pv-top-card-section__name inline t-24 t-black t-normal'}).getText().strip()\n",
    "    else: name = None\n",
    "        \n",
    "    if soup.find('h2',{'class':'pv-top-card-section__headline mt1 t-18 t-black t-normal'}):\n",
    "        self_intro1 = soup.find('h2',{'class':'pv-top-card-section__headline mt1 t-18 t-black t-normal'}).getText().strip()\n",
    "    else: self_intro1 = None\n",
    "    \n",
    "    if soup.find('h3', {'class':'pv-entity__school-name t-16 t-black t-bold'}):\n",
    "        school = soup.find('h3', {'class':'pv-entity__school-name t-16 t-black t-bold'}).getText()\n",
    "    else: school = None\n",
    "        \n",
    "    if soup.find('span', {'class':'pv-entity__comma-item'}):\n",
    "        degree = soup.find('span', {'class':'pv-entity__comma-item'}).getText()\n",
    "    else: degree = None\n",
    "\n",
    "    if soup.find('span',{'class':'pv-entity__secondary-title'}):\n",
    "        current_company = soup.find('span',{'class':'pv-entity__secondary-title'}).getText()\n",
    "    else: current_company = None\n",
    "        \n",
    "    if soup.find('h3',{'class':'t-16 t-black t-bold'}):\n",
    "        current_title = soup.find('h3',{'class':'t-16 t-black t-bold'}).getText()\n",
    "    else: current_title = None\n",
    "    \n",
    "    if soup.find('p',{'class':'pv-entity__description t-14 t-black t-normal ember-view'}):\n",
    "        desc = soup.find('p',{'class':'pv-entity__description t-14 t-black t-normal ember-view'}).getText()\n",
    "    else: desc = None\n",
    "        \n",
    "    return {\"url\": [url],\n",
    "            \"name\": [name],\n",
    "            \"school\": [school],\n",
    "            \"degree\": [degree],\n",
    "            \"company\": [current_company],\n",
    "            \"title\": [current_title],\n",
    "            \"desc\": [desc]}"
   ]
  },
  {
   "cell_type": "code",
   "execution_count": 34,
   "metadata": {
    "scrolled": true
   },
   "outputs": [
    {
     "data": {
      "text/html": [
       "<div>\n",
       "<style scoped>\n",
       "    .dataframe tbody tr th:only-of-type {\n",
       "        vertical-align: middle;\n",
       "    }\n",
       "\n",
       "    .dataframe tbody tr th {\n",
       "        vertical-align: top;\n",
       "    }\n",
       "\n",
       "    .dataframe thead th {\n",
       "        text-align: right;\n",
       "    }\n",
       "</style>\n",
       "<table border=\"1\" class=\"dataframe\">\n",
       "  <thead>\n",
       "    <tr style=\"text-align: right;\">\n",
       "      <th></th>\n",
       "      <th>url</th>\n",
       "      <th>name</th>\n",
       "      <th>school</th>\n",
       "      <th>degree</th>\n",
       "      <th>company</th>\n",
       "      <th>title</th>\n",
       "      <th>desc</th>\n",
       "    </tr>\n",
       "  </thead>\n",
       "  <tbody>\n",
       "    <tr>\n",
       "      <th>0</th>\n",
       "      <td>https://www.linkedin.com/feed/</td>\n",
       "      <td>None</td>\n",
       "      <td>None</td>\n",
       "      <td>None</td>\n",
       "      <td>None</td>\n",
       "      <td>None</td>\n",
       "      <td>None</td>\n",
       "    </tr>\n",
       "  </tbody>\n",
       "</table>\n",
       "</div>"
      ],
      "text/plain": [
       "                              url  name school degree company title  desc\n",
       "0  https://www.linkedin.com/feed/  None   None   None    None  None  None"
      ]
     },
     "execution_count": 34,
     "metadata": {},
     "output_type": "execute_result"
    }
   ],
   "source": [
    "dict_profile = extract_basic_info(soup, url)\n",
    "dict_profile\n",
    "df = pd.DataFrame.from_dict(dict_profile)\n",
    "df"
   ]
  },
  {
   "cell_type": "markdown",
   "metadata": {},
   "source": [
    "### Search"
   ]
  },
  {
   "cell_type": "code",
   "execution_count": 35,
   "metadata": {},
   "outputs": [],
   "source": [
    "def search_num(driver):\n",
    "    lst_Count= driver.find_elements_by_xpath(\"//div[@class='search-result__wrapper']\")\n",
    "    return len(lst_Count)\n",
    "\n",
    "def search(name, driver):\n",
    "    searchElem = driver.find_element_by_xpath(\"//div[@id='nav-typeahead-wormhole']//input[1]\")\n",
    "    searchElem.clear()\n",
    "    searchElem.send_keys(name)\n",
    "\n",
    "    searchElem.send_keys(Keys.ENTER);\n",
    "    lst_Count= driver.find_elements_by_xpath(\"//div[@class='search-result__wrapper']\")\n",
    "    \n",
    "    if len(lst_Count) == 1:\n",
    "        search = driver.find_element_by_css_selector('h3.actor-name-with-distance')\n",
    "        search.click()\n",
    "    else:\n",
    "        print(\"Lot's of searches\")\n"
   ]
  },
  {
   "cell_type": "code",
   "execution_count": 49,
   "metadata": {},
   "outputs": [],
   "source": [
    "def new_tab(name):\n",
    "    print('searching ' + name + \"'s profile\")\n",
    "    url_link = \"https://www.linkedin.com/search/results/all/?keywords=\" + name + \"=GLOBAL_SEARCH_HEADER\"\n",
    "    \n",
    "    driver.execute_script(\"window.open('about:blank');\")\n",
    "    window_list = driver.window_handles\n",
    "    driver.switch_to.window(window_list[-1])\n",
    "    driver.get(url_link)"
   ]
  },
  {
   "cell_type": "code",
   "execution_count": 65,
   "metadata": {},
   "outputs": [],
   "source": [
    "def search_new_tab(name):\n",
    "    print('searching ' + name + \"'s profile\")\n",
    "    url_link = \"https://www.linkedin.com/search/results/all/?keywords=\" + name + \"=GLOBAL_SEARCH_HEADER\"\n",
    "    \n",
    "    driver.execute_script(\"window.open('about:blank');\")\n",
    "    window_list = driver.window_handles\n",
    "    driver.switch_to.window(window_list[-1])\n",
    "    driver.get(url_link)\n",
    "    \n",
    "    lst_Count= driver.find_elements_by_xpath(\"//div[@class='search-result__wrapper']\")\n",
    "    if len(lst_Count) == 1:\n",
    "        time.sleep(randint(0,5))\n",
    "        search = driver.find_element_by_css_selector('h3.actor-name-with-distance')\n",
    "        search.click()\n",
    "    "
   ]
  },
  {
   "cell_type": "code",
   "execution_count": 66,
   "metadata": {},
   "outputs": [
    {
     "name": "stdout",
     "output_type": "stream",
     "text": [
      "searching how kok sheng's profile\n",
      "searching tharmaraja arumugam's profile\n",
      "searching karrthigeyan mohanadas's profile\n"
     ]
    }
   ],
   "source": [
    "x = 0\n",
    "y = 3\n",
    "\n",
    "i = x*y \n",
    "j = i + y\n",
    "search = profiles[i:j]\n",
    "for index, row in search.iterrows():\n",
    "    search_new_tab(row['Full Name'])\n",
    "    \n",
    "    driver.execute_script(\"window.scrollTo(0, document.body.scrollHeight);\")\n",
    "\n",
    "#     print(row['index'], row['Full Name'])\n"
   ]
  },
  {
   "cell_type": "code",
   "execution_count": null,
   "metadata": {},
   "outputs": [],
   "source": []
  },
  {
   "cell_type": "code",
   "execution_count": null,
   "metadata": {},
   "outputs": [],
   "source": []
  },
  {
   "cell_type": "code",
   "execution_count": null,
   "metadata": {},
   "outputs": [],
   "source": []
  },
  {
   "cell_type": "code",
   "execution_count": null,
   "metadata": {},
   "outputs": [],
   "source": [
    "browser=webdriver.Chrome()\n",
    "\n",
    "#first tab\n",
    "browser.get('http:/reddit.com')\n",
    "\n",
    "#second tab\n",
    "browser.execute_script(\"window.open('about:blank', 'tab2');\")\n",
    "browser.switch_to.window(\"tab2\")\n",
    "browser.get('http://bing.com')"
   ]
  },
  {
   "cell_type": "markdown",
   "metadata": {},
   "source": [
    "### Tabs"
   ]
  },
  {
   "cell_type": "code",
   "execution_count": null,
   "metadata": {},
   "outputs": [],
   "source": [
    "window_before = browser.window_handles[1]\n",
    "browser.switch_to.window(window_before)"
   ]
  },
  {
   "cell_type": "code",
   "execution_count": null,
   "metadata": {},
   "outputs": [],
   "source": [
    "Window_List = browser.window_handles\n",
    "Window_List"
   ]
  },
  {
   "cell_type": "code",
   "execution_count": null,
   "metadata": {},
   "outputs": [],
   "source": [
    "browser.execute_script(\"window.open('');\")\n",
    "Window_List = browser.window_handles\n",
    "browser.switch_to.window(Window_List[-2])"
   ]
  },
  {
   "cell_type": "code",
   "execution_count": null,
   "metadata": {
    "scrolled": true
   },
   "outputs": [],
   "source": [
    "Window_List = driver.window_handles\n",
    "print(len(Window_List))"
   ]
  },
  {
   "cell_type": "code",
   "execution_count": null,
   "metadata": {},
   "outputs": [],
   "source": [
    "window_list = driver.window_handles\n",
    "for i in range(len(window_list)):\n",
    "    print(i)\n",
    "    driver.switch_to.window(window_list[i])\n",
    "    time.sleep(4)"
   ]
  },
  {
   "cell_type": "code",
   "execution_count": null,
   "metadata": {},
   "outputs": [],
   "source": [
    "print(dir(driver))"
   ]
  },
  {
   "cell_type": "markdown",
   "metadata": {},
   "source": [
    "## Collect data"
   ]
  },
  {
   "cell_type": "code",
   "execution_count": 69,
   "metadata": {},
   "outputs": [],
   "source": [
    "window_list = driver.window_handles\n",
    "df = pd.DataFrame()\n",
    "\n",
    "for i in range(len(window_list)):\n",
    "    driver.switch_to.window(window_list[i])\n",
    "    \n",
    "    html = driver.page_source\n",
    "    soup = BeautifulSoup(html,'lxml')\n",
    "    url = driver.current_url\n",
    "\n",
    "    dict_profile = extract_basic_info(soup, url)\n",
    "    df2 = pd.DataFrame.from_dict(dict_profile)\n",
    "    df = df.append(df2, ignore_index=True)\n",
    "    \n",
    "    \n",
    "    time.sleep(randint(0,5))"
   ]
  },
  {
   "cell_type": "code",
   "execution_count": 68,
   "metadata": {},
   "outputs": [
    {
     "data": {
      "text/html": [
       "<div>\n",
       "<style scoped>\n",
       "    .dataframe tbody tr th:only-of-type {\n",
       "        vertical-align: middle;\n",
       "    }\n",
       "\n",
       "    .dataframe tbody tr th {\n",
       "        vertical-align: top;\n",
       "    }\n",
       "\n",
       "    .dataframe thead th {\n",
       "        text-align: right;\n",
       "    }\n",
       "</style>\n",
       "<table border=\"1\" class=\"dataframe\">\n",
       "  <thead>\n",
       "    <tr style=\"text-align: right;\">\n",
       "      <th></th>\n",
       "      <th>url</th>\n",
       "      <th>name</th>\n",
       "      <th>school</th>\n",
       "      <th>degree</th>\n",
       "      <th>company</th>\n",
       "      <th>title</th>\n",
       "      <th>desc</th>\n",
       "    </tr>\n",
       "  </thead>\n",
       "  <tbody>\n",
       "    <tr>\n",
       "      <th>0</th>\n",
       "      <td>https://www.linkedin.com/feed/</td>\n",
       "      <td>None</td>\n",
       "      <td>None</td>\n",
       "      <td>None</td>\n",
       "      <td>None</td>\n",
       "      <td>None</td>\n",
       "      <td>None</td>\n",
       "    </tr>\n",
       "    <tr>\n",
       "      <th>1</th>\n",
       "      <td>https://www.linkedin.com/in/hue-kok-sheng-b034...</td>\n",
       "      <td>hue kok sheng</td>\n",
       "      <td>Southern University College</td>\n",
       "      <td>Barchelor's Diploma in Information Technology</td>\n",
       "      <td>IT Programmer&amp;Software Programmer</td>\n",
       "      <td>IT Programmer</td>\n",
       "      <td>Internship for software programmer in TicTec ...</td>\n",
       "    </tr>\n",
       "    <tr>\n",
       "      <th>2</th>\n",
       "      <td>https://www.linkedin.com/in/tharmaraja-arumuga...</td>\n",
       "      <td>Tharmaraja Arumugam</td>\n",
       "      <td>Institute Gemilang</td>\n",
       "      <td>Advance Diploma</td>\n",
       "      <td>Paypal Malaysia Services Sdn Bhd</td>\n",
       "      <td>Compliance Executive</td>\n",
       "      <td>None</td>\n",
       "    </tr>\n",
       "    <tr>\n",
       "      <th>3</th>\n",
       "      <td>https://www.linkedin.com/in/karrthigeyan-mohan...</td>\n",
       "      <td>Karrthigeyan Mohanadas</td>\n",
       "      <td>Curtin University of Technology</td>\n",
       "      <td>Bachelor of Commerce</td>\n",
       "      <td>Citi</td>\n",
       "      <td>Assistant Manager - Business Fraud Analyst</td>\n",
       "      <td>- Data Analytic\\n\\n- Data Modeling (Incl: Dec...</td>\n",
       "    </tr>\n",
       "    <tr>\n",
       "      <th>4</th>\n",
       "      <td>https://www.linkedin.com/search/results/all/?k...</td>\n",
       "      <td>None</td>\n",
       "      <td>None</td>\n",
       "      <td>None</td>\n",
       "      <td>None</td>\n",
       "      <td>None</td>\n",
       "      <td>None</td>\n",
       "    </tr>\n",
       "    <tr>\n",
       "      <th>5</th>\n",
       "      <td>https://www.linkedin.com/search/results/all/?k...</td>\n",
       "      <td>None</td>\n",
       "      <td>None</td>\n",
       "      <td>None</td>\n",
       "      <td>None</td>\n",
       "      <td>None</td>\n",
       "      <td>None</td>\n",
       "    </tr>\n",
       "    <tr>\n",
       "      <th>6</th>\n",
       "      <td>https://www.linkedin.com/in/karrthigeyan-mohan...</td>\n",
       "      <td>Karrthigeyan Mohanadas</td>\n",
       "      <td>Curtin University of Technology</td>\n",
       "      <td>Bachelor of Commerce</td>\n",
       "      <td>Citi</td>\n",
       "      <td>Assistant Manager - Business Fraud Analyst</td>\n",
       "      <td>- Data Analytic\\n\\n- Data Modeling (Incl: Dec...</td>\n",
       "    </tr>\n",
       "  </tbody>\n",
       "</table>\n",
       "</div>"
      ],
      "text/plain": [
       "                                                 url                    name  \\\n",
       "0                     https://www.linkedin.com/feed/                    None   \n",
       "1  https://www.linkedin.com/in/hue-kok-sheng-b034...           hue kok sheng   \n",
       "2  https://www.linkedin.com/in/tharmaraja-arumuga...     Tharmaraja Arumugam   \n",
       "3  https://www.linkedin.com/in/karrthigeyan-mohan...  Karrthigeyan Mohanadas   \n",
       "4  https://www.linkedin.com/search/results/all/?k...                    None   \n",
       "5  https://www.linkedin.com/search/results/all/?k...                    None   \n",
       "6  https://www.linkedin.com/in/karrthigeyan-mohan...  Karrthigeyan Mohanadas   \n",
       "\n",
       "                            school  \\\n",
       "0                             None   \n",
       "1      Southern University College   \n",
       "2               Institute Gemilang   \n",
       "3  Curtin University of Technology   \n",
       "4                             None   \n",
       "5                             None   \n",
       "6  Curtin University of Technology   \n",
       "\n",
       "                                          degree  \\\n",
       "0                                           None   \n",
       "1  Barchelor's Diploma in Information Technology   \n",
       "2                                Advance Diploma   \n",
       "3                           Bachelor of Commerce   \n",
       "4                                           None   \n",
       "5                                           None   \n",
       "6                           Bachelor of Commerce   \n",
       "\n",
       "                             company  \\\n",
       "0                               None   \n",
       "1  IT Programmer&Software Programmer   \n",
       "2   Paypal Malaysia Services Sdn Bhd   \n",
       "3                               Citi   \n",
       "4                               None   \n",
       "5                               None   \n",
       "6                               Citi   \n",
       "\n",
       "                                        title  \\\n",
       "0                                        None   \n",
       "1                               IT Programmer   \n",
       "2                        Compliance Executive   \n",
       "3  Assistant Manager - Business Fraud Analyst   \n",
       "4                                        None   \n",
       "5                                        None   \n",
       "6  Assistant Manager - Business Fraud Analyst   \n",
       "\n",
       "                                                desc  \n",
       "0                                               None  \n",
       "1   Internship for software programmer in TicTec ...  \n",
       "2                                               None  \n",
       "3   - Data Analytic\\n\\n- Data Modeling (Incl: Dec...  \n",
       "4                                               None  \n",
       "5                                               None  \n",
       "6   - Data Analytic\\n\\n- Data Modeling (Incl: Dec...  "
      ]
     },
     "execution_count": 68,
     "metadata": {},
     "output_type": "execute_result"
    }
   ],
   "source": [
    "df"
   ]
  },
  {
   "cell_type": "markdown",
   "metadata": {},
   "source": [
    "<h1>Main</h1>"
   ]
  },
  {
   "cell_type": "code",
   "execution_count": null,
   "metadata": {},
   "outputs": [],
   "source": [
    "start_time = time.time()\n",
    "\n",
    "random_num = randint(0,12)\n",
    "time.sleep(random_num)\n",
    "\n",
    "driver = webdriver.Chrome()\n",
    "driver.get('http://linkedin.com')\n",
    "\n",
    "\n",
    "# webdriver working, navigating content\n",
    "name = \"xun wei yee\"\n",
    "print('searching ' + name + \"'s profile\")\n",
    "search(name)\n",
    "\n",
    "currentURL = driver.getCurrentUrl();\n",
    "\n",
    "# show_education(driver)\n",
    "# show_all_skills(driver)\n",
    "# show_recommendations(driver)\n",
    "# show_accomplishment(driver)\n",
    "# print('exposed all content')\n",
    "\n",
    "# # fetch and parse html\n",
    "# htmlsource = fetch_html(driver)\n",
    "# soup = parse_html(driver, htmlsource)\n",
    "# print(pid + ' html file acquired') \n",
    "\n",
    "# # extract data from html\n",
    "# basicinfo = extract_basic_info(soup)\n",
    "# dict_experience = extract_working_experience(soup)\n",
    "# dict_education = extract_education(soup)\n",
    "# dict_skills = extract_skills(soup)\n",
    "# dict_accomplishments = extract_accomplishments(soup)\n",
    "# dict_recommendations = extract_recommendations(soup)\n",
    "\n",
    "# # put all data in a single dictionary\n",
    "# profile = {}\n",
    "# profile.update({'basic_info':basicinfo,\n",
    "#               'working_experience':dict_experience,\n",
    "#               'education':dict_education,\n",
    "#               'skills':dict_skills,\n",
    "#               'accomplishments':dict_accomplishments,\n",
    "#               'recommendations_by_others':dict_recommendations})\n",
    "\n",
    "\n",
    "# # write and export as json file\n",
    "# write_to_json(profile, pid)\n",
    "# print(pid + ' data collected')\n",
    "   \n",
    "print(\"--- %s seconds ---\" % (time.time() - start_time)) "
   ]
  },
  {
   "cell_type": "code",
   "execution_count": null,
   "metadata": {},
   "outputs": [],
   "source": [
    "start_time = time.time()\n",
    "\n",
    "\n",
    "for pid in to_scrape2_list[45:]:\n",
    "    \n",
    "    # webdriver working, navigating content\n",
    "    open_profile(driver, pid)\n",
    "    print('opened ' + pid + \"'s profile\")\n",
    "    try:\n",
    "        show_working_experience(driver)\n",
    "    except:\n",
    "        not_collected.append(pid)\n",
    "        print(pid + \"'s profile not collected\")\n",
    "        pass\n",
    "        \n",
    "    show_education(driver)\n",
    "    show_all_skills(driver)\n",
    "    show_recommendations(driver)\n",
    "    show_accomplishment(driver)\n",
    "    print('exposed all content')\n",
    "    \n",
    "    # fetch and parse html\n",
    "    htmlsource = fetch_html(driver)\n",
    "    soup = parse_html(driver, htmlsource)\n",
    "    print(pid + ' html file acquired') \n",
    "    \n",
    "    # extract data from html\n",
    "    basicinfo = extract_basic_info(soup)\n",
    "    dict_experience = extract_working_experience(soup)\n",
    "    dict_education = extract_education(soup)\n",
    "    dict_skills = extract_skills(soup)\n",
    "    dict_accomplishments = extract_accomplishments(soup)\n",
    "    dict_recommendations = extract_recommendations(soup)\n",
    "    \n",
    "    # put all data in a single dictionary\n",
    "    profile = {}\n",
    "    profile.update({'basic_info':basicinfo,\n",
    "                  'working_experience':dict_experience,\n",
    "                  'education':dict_education,\n",
    "                  'skills':dict_skills,\n",
    "                  'accomplishments':dict_accomplishments,\n",
    "                  'recommendations_by_others':dict_recommendations})\n",
    "    \n",
    "    \n",
    "    # write and export as json file\n",
    "    write_to_json(profile, pid)\n",
    "    print(pid + ' data collected')\n",
    "   \n",
    "print(\"--- %s seconds ---\" % (time.time() - start_time)) "
   ]
  },
  {
   "cell_type": "code",
   "execution_count": null,
   "metadata": {},
   "outputs": [],
   "source": [
    "# # From the \"People Also Viewed\" profiles at the right, choose one randomly to click into\n",
    "\n",
    "# def view_random_other_profile(driver):\n",
    "#     random_num = randint(0,9)\n",
    "#     random_profile = driver.find_elements_by_xpath(\"//li[@class='pv-browsemap-section__member-container mt4']\")[random_num]\n",
    "#     random_profile.click()"
   ]
  },
  {
   "cell_type": "code",
   "execution_count": null,
   "metadata": {},
   "outputs": [],
   "source": [
    "# view_random_other_profile(driver)"
   ]
  },
  {
   "cell_type": "code",
   "execution_count": null,
   "metadata": {},
   "outputs": [],
   "source": [
    "# Mimicking some human behaviors when visiting websites\n",
    "driver.back() # go back to previous page"
   ]
  },
  {
   "cell_type": "code",
   "execution_count": null,
   "metadata": {},
   "outputs": [],
   "source": []
  },
  {
   "cell_type": "code",
   "execution_count": null,
   "metadata": {},
   "outputs": [],
   "source": [
    "def handle_one():\n",
    "  return 1\n",
    "\n",
    "def handle_two():\n",
    "  return 2\n",
    "\n",
    "def handle_three():\n",
    "  return 3\n",
    "\n",
    "\n",
    "dd={'one': handle_one, \n",
    " 'two': handle_two, \n",
    " 'three': handle_three}\n"
   ]
  },
  {
   "cell_type": "markdown",
   "metadata": {},
   "source": [
    "## Testing"
   ]
  },
  {
   "cell_type": "code",
   "execution_count": null,
   "metadata": {},
   "outputs": [],
   "source": [
    "# driver.get('https://www.linkedin.com/feed/')\n",
    "\n",
    "searchElem = driver.find_element_by_xpath(\"//div[@id='nav-typeahead-wormhole']//input[1]\")\n",
    "searchElem.send_keys('prasanta')\n",
    "\n",
    "searchElem.send_keys(Keys.ENTER);"
   ]
  },
  {
   "cell_type": "code",
   "execution_count": null,
   "metadata": {},
   "outputs": [],
   "source": [
    "# search = driver.find_element_by_xpath(\"//section[@class='pv-profile-section education-section ember-view']\")\n",
    "search = driver.find_element_by_css_selector('h3.actor-name-with-distance')\n",
    "search.click()\n",
    "\n",
    "# driver.execute_script(\"return arguments[0].scrollIntoView();\", education)\n",
    "# time.sleep(2)\n",
    "\n",
    "# try:\n",
    "#     show_more_education = driver.find_element_by_xpath(\"//section[@class='pv-profile-section education-section ember-view']//button[@class='pv-profile-section__see-more-inline link']\")\n",
    "#     show_more_education.click()\n",
    "# except NoSuchElementException:\n",
    "#     pass\n",
    "\n",
    "# time.sleep(5)"
   ]
  },
  {
   "cell_type": "markdown",
   "metadata": {},
   "source": [
    "<b>Enter LinkedIn individual profile page</b>"
   ]
  },
  {
   "cell_type": "code",
   "execution_count": null,
   "metadata": {},
   "outputs": [],
   "source": [
    "driver.get('https://www.linkedin.com/in/xunweiyee/')\n",
    "# driver.get('http://linkedin.com/in/' + to_scrape['LinkedIn Id'].values[0])\n",
    "time.sleep(5)\n",
    "\n",
    "# scroll to bottom of page\n",
    "driver.execute_script(\"window.scrollTo(0, document.body.scrollHeight);\")\n",
    "time.sleep(4)\n",
    "driver.execute_script(\"window.scrollTo(0, 0);\")"
   ]
  },
  {
   "cell_type": "markdown",
   "metadata": {},
   "source": [
    "<b>Expose all content hide under \"show more\" button"
   ]
  },
  {
   "cell_type": "code",
   "execution_count": null,
   "metadata": {},
   "outputs": [],
   "source": [
    "def show_working_experience(driver):\n",
    "    experience = driver.find_element_by_xpath(\"//section[@id='experience-section']\")\n",
    "    driver.execute_script(\"return arguments[0].scrollIntoView();\", experience)\n",
    "    time.sleep(2)\n",
    "\n",
    "    try:\n",
    "        show_more_work_experience = driver.find_element_by_xpath(\"//section[@class='pv-profile-section experience-section ember-view']//button[@class='pv-profile-section__see-more-inline link']\")\n",
    "        show_more_work_experience.click()\n",
    "    except NoSuchElementException:\n",
    "        pass\n",
    "\n",
    "    time.sleep(4)\n",
    "    \n",
    "def show_education(driver):\n",
    "    education = driver.find_element_by_xpath(\"//section[@class='pv-profile-section education-section ember-view']\")\n",
    "    driver.execute_script(\"return arguments[0].scrollIntoView();\", education)\n",
    "    time.sleep(2)\n",
    "\n",
    "    try:\n",
    "        show_more_education = driver.find_element_by_xpath(\"//section[@class='pv-profile-section education-section ember-view']//button[@class='pv-profile-section__see-more-inline link']\")\n",
    "        show_more_education.click()\n",
    "    except NoSuchElementException:\n",
    "        pass\n",
    "\n",
    "    time.sleep(5)\n",
    "\n",
    "def show_all_skills(driver):\n",
    "    try:\n",
    "        skills = driver.find_element_by_xpath(\"//section[@class='pv-profile-section pv-featured-skills-section artdeco-container-card ember-view']\")\n",
    "    except NoSuchElementException:\n",
    "        skills = driver.find_element_by_xpath(\"//section[@class='pv-profile-section pv-skill-categories-section artdeco-container-card ember-view']\")\n",
    "\n",
    "    driver.execute_script(\"return arguments[0].scrollIntoView();\", skills)\n",
    "    time.sleep(2)\n",
    "\n",
    "    try:\n",
    "        show_more_skills = driver.find_element_by_xpath(\"//button[@class='pv-profile-section__card-action-bar pv-skills-section__additional-skills artdeco-container-card-action-bar']\")\n",
    "        show_more_skills.click()\n",
    "    except NoSuchElementException:\n",
    "        pass\n",
    "\n",
    "    time.sleep(5)\n",
    "    \n",
    "def show_recommendations(driver):## Show all recommendations\n",
    "    recommendations = driver.find_element_by_xpath(\"//div[@class='recommendations-inlining']\")\n",
    "    driver.execute_script(\"return arguments[0].scrollIntoView();\", recommendations)\n",
    "    time.sleep(2)\n",
    "\n",
    "    try:\n",
    "        show_more_recommendations = driver.find_element_by_xpath(\"//button[@aria-controls='recommendation-list']\")\n",
    "        show_more_recommendations.click()\n",
    "    except NoSuchElementException:\n",
    "        pass\n",
    "\n",
    "    time.sleep(4)\n",
    "    \n",
    "def show_accomplishment(driver):\n",
    "    # scroll to bottom of page\n",
    "    accomplishments = driver.find_element_by_xpath(\"//section[@class='pv-profile-section pv-accomplishments-section artdeco-container-card ember-view']\")\n",
    "    driver.execute_script(\"return arguments[0].scrollIntoView();\", accomplishments)\n",
    "    time.sleep(1)\n",
    "\n",
    "    ## Show all accomplishments\n",
    "\n",
    "    for expand_button in driver.find_elements_by_xpath(\"//section[@class='pv-profile-section pv-accomplishments-section artdeco-container-card ember-view']//button[@class='pv-accomplishments-block__expand']\"):\n",
    "        expand_button.click()\n",
    "        time.sleep(randint(3,5))\n",
    "\n",
    "        try:\n",
    "            see_more_button = driver.find_element_by_xpath(\"//section[@class='pv-profile-section pv-accomplishments-section artdeco-container-card ember-view']//button[@class='pv-profile-section__see-more-inline link']\")\n",
    "            while see_more_button:\n",
    "                see_more_button.click()\n",
    "                time.sleep(7)\n",
    "            else:\n",
    "                expand_button.click()\n",
    "                time.sleep(1)\n",
    "\n",
    "        except:\n",
    "            pass\n"
   ]
  }
 ],
 "metadata": {
  "anaconda-cloud": {},
  "kernelspec": {
   "display_name": "Python 3",
   "language": "python",
   "name": "python3"
  },
  "language_info": {
   "codemirror_mode": {
    "name": "ipython",
    "version": 3
   },
   "file_extension": ".py",
   "mimetype": "text/x-python",
   "name": "python",
   "nbconvert_exporter": "python",
   "pygments_lexer": "ipython3",
   "version": "3.7.3"
  },
  "varInspector": {
   "cols": {
    "lenName": 16,
    "lenType": 16,
    "lenVar": 40
   },
   "kernels_config": {
    "python": {
     "delete_cmd_postfix": "",
     "delete_cmd_prefix": "del ",
     "library": "var_list.py",
     "varRefreshCmd": "print(var_dic_list())"
    },
    "r": {
     "delete_cmd_postfix": ") ",
     "delete_cmd_prefix": "rm(",
     "library": "var_list.r",
     "varRefreshCmd": "cat(var_dic_list()) "
    }
   },
   "types_to_exclude": [
    "module",
    "function",
    "builtin_function_or_method",
    "instance",
    "_Feature"
   ],
   "window_display": false
  }
 },
 "nbformat": 4,
 "nbformat_minor": 2
}
